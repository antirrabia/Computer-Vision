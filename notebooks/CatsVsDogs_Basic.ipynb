{
 "cells": [
  {
   "cell_type": "code",
   "execution_count": 4,
   "id": "b65aad9f-d7ee-48c7-a23f-54eb48dba152",
   "metadata": {},
   "outputs": [],
   "source": [
    "import tensorflow as tf\n",
    "import pathlib\n",
    "\n",
    "from tensorflow import keras\n",
    "from tensorflow.keras import layers\n",
    "\n",
    "from tensorflow.keras.utils import image_dataset_from_directory\n",
    "\n",
    "import matplotlib.pyplot as plt"
   ]
  },
  {
   "cell_type": "markdown",
   "id": "0faaac2b-3edf-4468-a5f9-204b1a4fe0bc",
   "metadata": {},
   "source": [
    "### Test for GPUs"
   ]
  },
  {
   "cell_type": "code",
   "execution_count": 3,
   "id": "462dc02b-72e3-4a80-a0c6-2ed8b5376186",
   "metadata": {},
   "outputs": [
    {
     "name": "stdout",
     "output_type": "stream",
     "text": [
      "GPUs: 2\n"
     ]
    }
   ],
   "source": [
    "print('GPUs: {}'.format( len( tf.config.list_physical_devices('GPU') ) ) )"
   ]
  },
  {
   "cell_type": "markdown",
   "id": "d7e29b82-8437-495c-b3bc-5ac1dd33e30d",
   "metadata": {},
   "source": [
    "### Reading the data from directories"
   ]
  },
  {
   "cell_type": "code",
   "execution_count": 5,
   "id": "87e1b811-26a8-4b2d-ab11-9dbdd7bfff91",
   "metadata": {},
   "outputs": [],
   "source": [
    "w_dir = pathlib.Path('/home/antirrabia/Documents/DeepLearnin/DATASETS/CatsVsDogs/cats_vs_dogs_small/')"
   ]
  },
  {
   "cell_type": "code",
   "execution_count": 6,
   "id": "38f3891b-fa43-400f-9d05-68fbfe58d79c",
   "metadata": {},
   "outputs": [
    {
     "name": "stdout",
     "output_type": "stream",
     "text": [
      "Found 2000 files belonging to 2 classes.\n",
      "Found 1000 files belonging to 2 classes.\n",
      "Found 2000 files belonging to 2 classes.\n"
     ]
    }
   ],
   "source": [
    "tr_d = image_dataset_from_directory( w_dir / 'train', \n",
    "                                   image_size=(180,180),\n",
    "                                   batch_size=32)\n",
    "\n",
    "va_d = image_dataset_from_directory( w_dir / 'validation', \n",
    "                                    image_size=(180,180),\n",
    "                                    batch_size=32\n",
    "                                   )\n",
    "\n",
    "te_d = image_dataset_from_directory( w_dir / 'test',\n",
    "                                    image_size=(180, 180), \n",
    "                                    batch_size=32)"
   ]
  },
  {
   "cell_type": "markdown",
   "id": "232ec5ce-ea70-4f84-a101-48112eaf1248",
   "metadata": {},
   "source": [
    "### Model"
   ]
  },
  {
   "cell_type": "code",
   "execution_count": 7,
   "id": "cb61a7b1-ff5d-447e-bc92-43a8aed5c945",
   "metadata": {},
   "outputs": [],
   "source": [
    "inputs = keras.Input(shape=(180,180,3))\n",
    "\n",
    "x = layers.Rescaling(1./255)(inputs)\n",
    "\n",
    "x = layers.Conv2D(filters=32, kernel_size=3, activation='relu')(x)\n",
    "x = layers.MaxPooling2D(pool_size=2)(x)\n",
    "\n",
    "x = layers.Conv2D(filters=64, kernel_size=3, activation='relu')(x)\n",
    "x = layers.MaxPooling2D(pool_size=2)(x)\n",
    "\n",
    "x = layers.Conv2D(filters=128, kernel_size=3, activation='relu')(x)\n",
    "x = layers.MaxPooling2D(pool_size=2)(x)\n",
    "\n",
    "x = layers.Conv2D(filters=256, kernel_size=3, activation='relu')(x)\n",
    "x = layers.MaxPooling2D(pool_size=2)(x)\n",
    "\n",
    "x = layers.Conv2D(filters=256, kernel_size=3, activation='relu')(x)\n",
    "\n",
    "x = layers.Flatten()(x)\n",
    "\n",
    "outputs = layers.Dense(1, activation='sigmoid')(x)\n",
    "\n",
    "model = keras.Model(inputs=inputs, outputs=outputs)"
   ]
  },
  {
   "cell_type": "markdown",
   "id": "931b7c04-a12d-4fcf-9a8a-aa8806271e4c",
   "metadata": {},
   "source": [
    "### Compile"
   ]
  },
  {
   "cell_type": "code",
   "execution_count": 8,
   "id": "481dc3c1-dbf8-4856-b546-e9224068b458",
   "metadata": {},
   "outputs": [],
   "source": [
    "model.compile(loss='binary_crossentropy',\n",
    "              optimizer='rmsprop',\n",
    "              metrics=['accuracy'])"
   ]
  },
  {
   "cell_type": "markdown",
   "id": "2d811b45-64a1-4a27-bc93-082944b79b8d",
   "metadata": {},
   "source": [
    "### summary"
   ]
  },
  {
   "cell_type": "code",
   "execution_count": 9,
   "id": "9c7d366d-0853-4dc1-860c-b2940cb6c6e2",
   "metadata": {},
   "outputs": [
    {
     "name": "stdout",
     "output_type": "stream",
     "text": [
      "Model: \"model\"\n",
      "_________________________________________________________________\n",
      " Layer (type)                Output Shape              Param #   \n",
      "=================================================================\n",
      " input_1 (InputLayer)        [(None, 180, 180, 3)]     0         \n",
      "                                                                 \n",
      " rescaling (Rescaling)       (None, 180, 180, 3)       0         \n",
      "                                                                 \n",
      " conv2d (Conv2D)             (None, 178, 178, 32)      896       \n",
      "                                                                 \n",
      " max_pooling2d (MaxPooling2D  (None, 89, 89, 32)       0         \n",
      " )                                                               \n",
      "                                                                 \n",
      " conv2d_1 (Conv2D)           (None, 87, 87, 64)        18496     \n",
      "                                                                 \n",
      " max_pooling2d_1 (MaxPooling  (None, 43, 43, 64)       0         \n",
      " 2D)                                                             \n",
      "                                                                 \n",
      " conv2d_2 (Conv2D)           (None, 41, 41, 128)       73856     \n",
      "                                                                 \n",
      " max_pooling2d_2 (MaxPooling  (None, 20, 20, 128)      0         \n",
      " 2D)                                                             \n",
      "                                                                 \n",
      " conv2d_3 (Conv2D)           (None, 18, 18, 256)       295168    \n",
      "                                                                 \n",
      " max_pooling2d_3 (MaxPooling  (None, 9, 9, 256)        0         \n",
      " 2D)                                                             \n",
      "                                                                 \n",
      " conv2d_4 (Conv2D)           (None, 7, 7, 256)         590080    \n",
      "                                                                 \n",
      " flatten (Flatten)           (None, 12544)             0         \n",
      "                                                                 \n",
      " dense (Dense)               (None, 1)                 12545     \n",
      "                                                                 \n",
      "=================================================================\n",
      "Total params: 991,041\n",
      "Trainable params: 991,041\n",
      "Non-trainable params: 0\n",
      "_________________________________________________________________\n"
     ]
    }
   ],
   "source": [
    "model.summary()"
   ]
  },
  {
   "cell_type": "markdown",
   "id": "4f748272-469d-460c-9b06-5988ccac8eda",
   "metadata": {},
   "source": [
    "### Fitting"
   ]
  },
  {
   "cell_type": "code",
   "execution_count": 10,
   "id": "8d6e4d08-3cfe-466c-8cbe-246718bc98e0",
   "metadata": {},
   "outputs": [
    {
     "name": "stdout",
     "output_type": "stream",
     "text": [
      "Epoch 1/30\n",
      "63/63 [==============================] - 8s 64ms/step - loss: 0.8226 - accuracy: 0.4955 - val_loss: 0.6912 - val_accuracy: 0.5780\n",
      "Epoch 2/30\n",
      "63/63 [==============================] - 3s 54ms/step - loss: 0.6981 - accuracy: 0.5300 - val_loss: 0.6774 - val_accuracy: 0.5350\n",
      "Epoch 3/30\n",
      "63/63 [==============================] - 3s 53ms/step - loss: 0.6847 - accuracy: 0.5865 - val_loss: 0.6681 - val_accuracy: 0.6310\n",
      "Epoch 4/30\n",
      "63/63 [==============================] - 3s 53ms/step - loss: 0.6317 - accuracy: 0.6565 - val_loss: 0.6228 - val_accuracy: 0.6430\n",
      "Epoch 5/30\n",
      "63/63 [==============================] - 3s 51ms/step - loss: 0.5884 - accuracy: 0.6850 - val_loss: 0.6584 - val_accuracy: 0.6760\n",
      "Epoch 6/30\n",
      "63/63 [==============================] - 3s 52ms/step - loss: 0.5782 - accuracy: 0.7215 - val_loss: 0.5652 - val_accuracy: 0.7090\n",
      "Epoch 7/30\n",
      "63/63 [==============================] - 3s 52ms/step - loss: 0.4916 - accuracy: 0.7600 - val_loss: 0.8248 - val_accuracy: 0.5830\n",
      "Epoch 8/30\n",
      "63/63 [==============================] - 3s 52ms/step - loss: 0.4737 - accuracy: 0.7795 - val_loss: 0.6174 - val_accuracy: 0.7190\n",
      "Epoch 9/30\n",
      "63/63 [==============================] - 3s 52ms/step - loss: 0.4323 - accuracy: 0.8070 - val_loss: 0.6333 - val_accuracy: 0.6870\n",
      "Epoch 10/30\n",
      "63/63 [==============================] - 3s 51ms/step - loss: 0.3540 - accuracy: 0.8415 - val_loss: 0.7317 - val_accuracy: 0.6650\n",
      "Epoch 11/30\n",
      "63/63 [==============================] - 3s 52ms/step - loss: 0.2825 - accuracy: 0.8790 - val_loss: 0.7889 - val_accuracy: 0.7420\n",
      "Epoch 12/30\n",
      "63/63 [==============================] - 3s 53ms/step - loss: 0.2423 - accuracy: 0.8975 - val_loss: 0.9663 - val_accuracy: 0.6600\n",
      "Epoch 13/30\n",
      "63/63 [==============================] - 3s 52ms/step - loss: 0.1917 - accuracy: 0.9260 - val_loss: 1.2218 - val_accuracy: 0.7060\n",
      "Epoch 14/30\n",
      "63/63 [==============================] - 3s 51ms/step - loss: 0.1495 - accuracy: 0.9445 - val_loss: 1.0706 - val_accuracy: 0.7110\n",
      "Epoch 15/30\n",
      "63/63 [==============================] - 3s 52ms/step - loss: 0.1193 - accuracy: 0.9600 - val_loss: 1.1417 - val_accuracy: 0.7150\n",
      "Epoch 16/30\n",
      "63/63 [==============================] - 3s 52ms/step - loss: 0.1269 - accuracy: 0.9555 - val_loss: 1.4533 - val_accuracy: 0.7110\n",
      "Epoch 17/30\n",
      "63/63 [==============================] - 3s 52ms/step - loss: 0.0812 - accuracy: 0.9720 - val_loss: 1.3056 - val_accuracy: 0.7410\n",
      "Epoch 18/30\n",
      "63/63 [==============================] - 3s 52ms/step - loss: 0.0700 - accuracy: 0.9730 - val_loss: 1.6464 - val_accuracy: 0.6990\n",
      "Epoch 19/30\n",
      "63/63 [==============================] - 3s 52ms/step - loss: 0.0762 - accuracy: 0.9770 - val_loss: 1.5870 - val_accuracy: 0.7210\n",
      "Epoch 20/30\n",
      "63/63 [==============================] - 3s 52ms/step - loss: 0.0397 - accuracy: 0.9865 - val_loss: 1.5266 - val_accuracy: 0.7330\n",
      "Epoch 21/30\n",
      "63/63 [==============================] - 3s 51ms/step - loss: 0.0594 - accuracy: 0.9860 - val_loss: 1.8832 - val_accuracy: 0.7210\n",
      "Epoch 22/30\n",
      "63/63 [==============================] - 3s 52ms/step - loss: 0.0786 - accuracy: 0.9785 - val_loss: 2.0453 - val_accuracy: 0.7210\n",
      "Epoch 23/30\n",
      "63/63 [==============================] - 3s 52ms/step - loss: 0.0518 - accuracy: 0.9820 - val_loss: 1.9612 - val_accuracy: 0.7270\n",
      "Epoch 24/30\n",
      "63/63 [==============================] - 3s 52ms/step - loss: 0.0418 - accuracy: 0.9865 - val_loss: 3.1943 - val_accuracy: 0.6620\n",
      "Epoch 25/30\n",
      "63/63 [==============================] - 3s 52ms/step - loss: 0.0734 - accuracy: 0.9780 - val_loss: 1.7567 - val_accuracy: 0.7310\n",
      "Epoch 26/30\n",
      "63/63 [==============================] - 3s 52ms/step - loss: 0.0652 - accuracy: 0.9865 - val_loss: 2.2371 - val_accuracy: 0.7250\n",
      "Epoch 27/30\n",
      "63/63 [==============================] - 3s 52ms/step - loss: 0.0547 - accuracy: 0.9835 - val_loss: 2.2799 - val_accuracy: 0.7290\n",
      "Epoch 28/30\n",
      "63/63 [==============================] - 3s 52ms/step - loss: 0.0307 - accuracy: 0.9910 - val_loss: 2.5501 - val_accuracy: 0.7190\n",
      "Epoch 29/30\n",
      "63/63 [==============================] - 3s 52ms/step - loss: 0.0409 - accuracy: 0.9890 - val_loss: 2.5480 - val_accuracy: 0.7210\n",
      "Epoch 30/30\n",
      "63/63 [==============================] - 3s 52ms/step - loss: 0.0426 - accuracy: 0.9845 - val_loss: 2.9421 - val_accuracy: 0.6990\n"
     ]
    }
   ],
   "source": [
    "callbacks = [ \n",
    "    keras.callbacks.ModelCheckpoint( filepath='cats_vs_dogs_basic.keras', \n",
    "                                   save_best_only=True,\n",
    "                                   monitor='val_loss')\n",
    "    ]\n",
    "\n",
    "history = model.fit(\n",
    "    tr_d,\n",
    "    epochs=30,\n",
    "    validation_data=va_d,\n",
    "    callbacks=callbacks\n",
    "    )"
   ]
  },
  {
   "cell_type": "markdown",
   "id": "751861e3-7496-4d00-a178-8abc7617aa37",
   "metadata": {},
   "source": [
    "### ploting the training"
   ]
  },
  {
   "cell_type": "code",
   "execution_count": 12,
   "id": "8d984a81-457d-41fe-8c1e-3ed39262d0ba",
   "metadata": {},
   "outputs": [
    {
     "data": {
      "image/png": "[encoded data removed]",
      "text/plain": [
       "<Figure size 432x288 with 1 Axes>"
      ]
     },
     "metadata": {
      "needs_background": "light"
     },
     "output_type": "display_data"
    },
    {
     "data": {
      "image/png": "[encoded data removed]",
      "text/plain": [
       "<Figure size 432x288 with 1 Axes>"
      ]
     },
     "metadata": {
      "needs_background": "light"
     },
     "output_type": "display_data"
    },
    {
     "data": {
      "text/plain": [
       "<Figure size 432x288 with 0 Axes>"
      ]
     },
     "metadata": {},
     "output_type": "display_data"
    }
   ],
   "source": [
    "# Accuracy\n",
    "accuracy = history.history['accuracy']\n",
    "val_accuracy = history.history['val_accuracy']\n",
    "\n",
    "# Loss\n",
    "loss = history.history['loss']\n",
    "val_loss = history.history['val_loss']\n",
    "\n",
    "epochs = range(1, len(accuracy) + 1)\n",
    "\n",
    "# Accuracy\n",
    "plt.plot(epochs, accuracy, 'bo', label='Training accuracy')\n",
    "plt.plot(epochs, val_accuracy, 'b', label='Validation accuracy')\n",
    "plt.title('Training and Validation accuracy')\n",
    "plt.legend(), plt.figure();\n",
    "\n",
    "# Loss\n",
    "plt.plot(epochs, loss, 'bo', label='Training loss')\n",
    "plt.plot(epochs, val_loss, 'b', label='Validation loss')\n",
    "plt.title('Training and Validation loss')\n",
    "plt.legend(), plt.figure();"
   ]
  },
  {
   "cell_type": "markdown",
   "id": "a470b14c-bdee-492f-b4e8-601fa6312f6e",
   "metadata": {},
   "source": [
    "### Evaluating"
   ]
  },
  {
   "cell_type": "code",
   "execution_count": 13,
   "id": "6bb04bdd-2200-4ee1-910b-4d114ed939a0",
   "metadata": {},
   "outputs": [
    {
     "name": "stdout",
     "output_type": "stream",
     "text": [
      "63/63 [==============================] - 1s 15ms/step - loss: 0.5708 - accuracy: 0.7075\n",
      "Test accuracy: 0.707\n"
     ]
    }
   ],
   "source": [
    "te_model = keras.models.load_model('cats_vs_dogs_basic.keras')\n",
    "te_loss, te_acc = te_model.evaluate(te_d)\n",
    "\n",
    "print(f'Test accuracy: {te_acc:.3f}')"
   ]
  },
  {
   "cell_type": "code",
   "execution_count": null,
   "id": "8a75bb78-17c2-429c-8a22-12559edc8e49",
   "metadata": {},
   "outputs": [],
   "source": []
  }
 ],
 "metadata": {
  "kernelspec": {
   "display_name": "Python 3",
   "language": "python",
   "name": "python3"
  },
  "language_info": {
   "codemirror_mode": {
    "name": "ipython",
    "version": 3
   },
   "file_extension": ".py",
   "mimetype": "text/x-python",
   "name": "python",
   "nbconvert_exporter": "python",
   "pygments_lexer": "ipython3",
   "version": "3.9.16"
  }
 },
 "nbformat": 4,
 "nbformat_minor": 5
}
