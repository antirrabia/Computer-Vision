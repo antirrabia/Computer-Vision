{
 "cells": [
  {
   "cell_type": "code",
   "execution_count": 1,
   "id": "52917511-dba9-4c72-8415-8b2f1be6adb1",
   "metadata": {},
   "outputs": [],
   "source": [
    "import tensorflow as tf\n",
    "import pathlib\n",
    "\n",
    "from tensorflow import keras\n",
    "from tensorflow.keras import layers\n",
    "\n",
    "from tensorflow.keras.utils import image_dataset_from_directory\n",
    "\n",
    "import matplotlib.pyplot as plt"
   ]
  },
  {
   "cell_type": "markdown",
   "id": "2ed55707-dae2-4016-a8af-d8a2b7ca6641",
   "metadata": {},
   "source": [
    "### Test GPUs"
   ]
  },
  {
   "cell_type": "code",
   "execution_count": 2,
   "id": "140d5dac-8e83-4e39-bbd8-54194b164f45",
   "metadata": {},
   "outputs": [
    {
     "name": "stdout",
     "output_type": "stream",
     "text": [
      "GPUs: 2\n"
     ]
    }
   ],
   "source": [
    "print(f\"GPUs: {len(tf.config.list_physical_devices('GPU'))}\")"
   ]
  },
  {
   "cell_type": "markdown",
   "id": "b8738a8a-29d1-4726-9353-913b06184aa6",
   "metadata": {},
   "source": [
    "### Reading the DATA"
   ]
  },
  {
   "cell_type": "code",
   "execution_count": 3,
   "id": "50fd8ecb-364f-4e28-945c-451069b2f82a",
   "metadata": {},
   "outputs": [],
   "source": [
    "w_dir = pathlib.Path('/home/antirrabia/Documents/DeepLearnin/DATASETS/CatsVsDogs/cats_vs_dogs_small/')"
   ]
  },
  {
   "cell_type": "code",
   "execution_count": 4,
   "id": "c7dd535a-f5af-4423-887f-5de4592a5af8",
   "metadata": {},
   "outputs": [
    {
     "name": "stdout",
     "output_type": "stream",
     "text": [
      "Found 2000 files belonging to 2 classes.\n",
      "Found 1000 files belonging to 2 classes.\n",
      "Found 2000 files belonging to 2 classes.\n"
     ]
    }
   ],
   "source": [
    "tr_d = image_dataset_from_directory( \n",
    "    w_dir / 'train',\n",
    "    image_size=(180,180),\n",
    "    batch_size=32\n",
    ")\n",
    "\n",
    "va_d = image_dataset_from_directory( \n",
    "    w_dir / 'validation',\n",
    "    image_size=(180,180),\n",
    "    batch_size=32\n",
    ")\n",
    "\n",
    "te_d = image_dataset_from_directory(\n",
    "    w_dir / 'test',\n",
    "    image_size=(180,180),\n",
    "    batch_size=32\n",
    ")"
   ]
  },
  {
   "cell_type": "markdown",
   "id": "5720cb21-829f-4111-8109-386f3644039f",
   "metadata": {},
   "source": [
    "### Augmentation"
   ]
  },
  {
   "cell_type": "code",
   "execution_count": 5,
   "id": "fd25d83d-8c6a-4964-b7ec-b6e70ad99567",
   "metadata": {},
   "outputs": [],
   "source": [
    "data_augmentation = keras.Sequential(\n",
    "    [\n",
    "        layers.RandomFlip(\"horizontal\"),\n",
    "        layers.RandomRotation(0.1),\n",
    "        layers.RandomZoom(0.2)\n",
    "    ]\n",
    ")"
   ]
  },
  {
   "cell_type": "markdown",
   "id": "1283761f-c350-408d-acc3-8bd1e7f8cc45",
   "metadata": {},
   "source": [
    "### Model"
   ]
  },
  {
   "cell_type": "code",
   "execution_count": 6,
   "id": "e3dfe113-c2a3-4e14-bc1a-18fe1e7d329f",
   "metadata": {},
   "outputs": [
    {
     "name": "stdout",
     "output_type": "stream",
     "text": [
      "WARNING:tensorflow:Using a while_loop for converting RngReadAndSkip cause there is no registered converter for this op.\n",
      "WARNING:tensorflow:Using a while_loop for converting Bitcast cause there is no registered converter for this op.\n",
      "WARNING:tensorflow:Using a while_loop for converting Bitcast cause there is no registered converter for this op.\n",
      "WARNING:tensorflow:Using a while_loop for converting StatelessRandomUniformV2 cause there is no registered converter for this op.\n",
      "WARNING:tensorflow:Using a while_loop for converting ImageProjectiveTransformV3 cause there is no registered converter for this op.\n",
      "WARNING:tensorflow:Using a while_loop for converting RngReadAndSkip cause there is no registered converter for this op.\n",
      "WARNING:tensorflow:Using a while_loop for converting Bitcast cause there is no registered converter for this op.\n",
      "WARNING:tensorflow:Using a while_loop for converting Bitcast cause there is no registered converter for this op.\n",
      "WARNING:tensorflow:Using a while_loop for converting StatelessRandomUniformV2 cause there is no registered converter for this op.\n",
      "WARNING:tensorflow:Using a while_loop for converting ImageProjectiveTransformV3 cause there is no registered converter for this op.\n",
      "WARNING:tensorflow:Using a while_loop for converting RngReadAndSkip cause there is no registered converter for this op.\n",
      "WARNING:tensorflow:Using a while_loop for converting Bitcast cause there is no registered converter for this op.\n",
      "WARNING:tensorflow:Using a while_loop for converting Bitcast cause there is no registered converter for this op.\n",
      "WARNING:tensorflow:Using a while_loop for converting StatelessRandomUniformV2 cause there is no registered converter for this op.\n",
      "WARNING:tensorflow:Using a while_loop for converting ImageProjectiveTransformV3 cause there is no registered converter for this op.\n",
      "WARNING:tensorflow:Using a while_loop for converting RngReadAndSkip cause there is no registered converter for this op.\n",
      "WARNING:tensorflow:Using a while_loop for converting Bitcast cause there is no registered converter for this op.\n",
      "WARNING:tensorflow:Using a while_loop for converting Bitcast cause there is no registered converter for this op.\n",
      "WARNING:tensorflow:Using a while_loop for converting StatelessRandomUniformV2 cause there is no registered converter for this op.\n",
      "WARNING:tensorflow:Using a while_loop for converting ImageProjectiveTransformV3 cause there is no registered converter for this op.\n"
     ]
    }
   ],
   "source": [
    "inputs = keras.Input(shape=(180,180,3))\n",
    "\n",
    "x = data_augmentation(inputs)\n",
    "\n",
    "x = layers.Rescaling(1./255)(x)\n",
    "\n",
    "x = layers.Conv2D(filters=32, kernel_size=3, activation='relu')(x)\n",
    "x = layers.MaxPooling2D(pool_size=2)(x)\n",
    "\n",
    "x = layers.Conv2D(filters=64, kernel_size=3, activation='relu')(x)\n",
    "x = layers.MaxPooling2D(pool_size=2)(x)\n",
    "\n",
    "x = layers.Conv2D(filters=128, kernel_size=3, activation='relu')(x)\n",
    "x = layers.MaxPooling2D(pool_size=2)(x)\n",
    "\n",
    "x = layers.Conv2D(filters=256, kernel_size=3, activation='relu')(x)\n",
    "x = layers.MaxPooling2D(pool_size=2)(x)\n",
    "\n",
    "x = layers.Conv2D(filters=256, kernel_size=3, activation='relu')(x)\n",
    "\n",
    "x = layers.Flatten()(x)\n",
    "\n",
    "x = layers.Dropout(0.5)(x)\n",
    "\n",
    "outputs = layers.Dense(1, activation=\"sigmoid\")(x)\n",
    "\n",
    "model = keras.Model(inputs=inputs, outputs=outputs)"
   ]
  },
  {
   "cell_type": "markdown",
   "id": "07225294-8f05-4912-8a9c-c53b6f6f992e",
   "metadata": {},
   "source": [
    "### Compile"
   ]
  },
  {
   "cell_type": "code",
   "execution_count": 7,
   "id": "2cdcbc73-fd54-4594-9693-f907373c558f",
   "metadata": {},
   "outputs": [],
   "source": [
    "model.compile( loss=\"binary_crossentropy\",\n",
    "               optimizer='rmsprop',\n",
    "               metrics=['accuracy'])"
   ]
  },
  {
   "cell_type": "markdown",
   "id": "9a630e75-acd0-4fa6-bccf-959918078a4c",
   "metadata": {},
   "source": [
    "### summary"
   ]
  },
  {
   "cell_type": "code",
   "execution_count": 8,
   "id": "03be2f81-f04a-4bf4-82ae-fb1a3b114c4e",
   "metadata": {},
   "outputs": [
    {
     "name": "stdout",
     "output_type": "stream",
     "text": [
      "Model: \"model\"\n",
      "_________________________________________________________________\n",
      " Layer (type)                Output Shape              Param #   \n",
      "=================================================================\n",
      " input_1 (InputLayer)        [(None, 180, 180, 3)]     0         \n",
      "                                                                 \n",
      " sequential (Sequential)     (None, 180, 180, 3)       0         \n",
      "                                                                 \n",
      " rescaling (Rescaling)       (None, 180, 180, 3)       0         \n",
      "                                                                 \n",
      " conv2d (Conv2D)             (None, 178, 178, 32)      896       \n",
      "                                                                 \n",
      " max_pooling2d (MaxPooling2D  (None, 89, 89, 32)       0         \n",
      " )                                                               \n",
      "                                                                 \n",
      " conv2d_1 (Conv2D)           (None, 87, 87, 64)        18496     \n",
      "                                                                 \n",
      " max_pooling2d_1 (MaxPooling  (None, 43, 43, 64)       0         \n",
      " 2D)                                                             \n",
      "                                                                 \n",
      " conv2d_2 (Conv2D)           (None, 41, 41, 128)       73856     \n",
      "                                                                 \n",
      " max_pooling2d_2 (MaxPooling  (None, 20, 20, 128)      0         \n",
      " 2D)                                                             \n",
      "                                                                 \n",
      " conv2d_3 (Conv2D)           (None, 18, 18, 256)       295168    \n",
      "                                                                 \n",
      " max_pooling2d_3 (MaxPooling  (None, 9, 9, 256)        0         \n",
      " 2D)                                                             \n",
      "                                                                 \n",
      " conv2d_4 (Conv2D)           (None, 7, 7, 256)         590080    \n",
      "                                                                 \n",
      " flatten (Flatten)           (None, 12544)             0         \n",
      "                                                                 \n",
      " dropout (Dropout)           (None, 12544)             0         \n",
      "                                                                 \n",
      " dense (Dense)               (None, 1)                 12545     \n",
      "                                                                 \n",
      "=================================================================\n",
      "Total params: 991,041\n",
      "Trainable params: 991,041\n",
      "Non-trainable params: 0\n",
      "_________________________________________________________________\n"
     ]
    }
   ],
   "source": [
    "model.summary()"
   ]
  },
  {
   "cell_type": "markdown",
   "id": "a2788ade-bd1e-455b-942a-18f5082729be",
   "metadata": {},
   "source": [
    "### Training"
   ]
  },
  {
   "cell_type": "code",
   "execution_count": 9,
   "id": "0cd5c4b4-d16f-4493-bc26-a693c6257d04",
   "metadata": {},
   "outputs": [
    {
     "name": "stdout",
     "output_type": "stream",
     "text": [
      "Epoch 1/100\n",
      "WARNING:tensorflow:Using a while_loop for converting RngReadAndSkip cause there is no registered converter for this op.\n",
      "WARNING:tensorflow:Using a while_loop for converting Bitcast cause there is no registered converter for this op.\n",
      "WARNING:tensorflow:Using a while_loop for converting Bitcast cause there is no registered converter for this op.\n",
      "WARNING:tensorflow:Using a while_loop for converting StatelessRandomUniformV2 cause there is no registered converter for this op.\n",
      "WARNING:tensorflow:Using a while_loop for converting ImageProjectiveTransformV3 cause there is no registered converter for this op.\n",
      "WARNING:tensorflow:Using a while_loop for converting RngReadAndSkip cause there is no registered converter for this op.\n",
      "WARNING:tensorflow:Using a while_loop for converting Bitcast cause there is no registered converter for this op.\n",
      "WARNING:tensorflow:Using a while_loop for converting Bitcast cause there is no registered converter for this op.\n",
      "WARNING:tensorflow:Using a while_loop for converting StatelessRandomUniformV2 cause there is no registered converter for this op.\n",
      "WARNING:tensorflow:Using a while_loop for converting ImageProjectiveTransformV3 cause there is no registered converter for this op.\n",
      "WARNING:tensorflow:Using a while_loop for converting RngReadAndSkip cause there is no registered converter for this op.\n",
      "WARNING:tensorflow:Using a while_loop for converting Bitcast cause there is no registered converter for this op.\n",
      "WARNING:tensorflow:Using a while_loop for converting Bitcast cause there is no registered converter for this op.\n",
      "WARNING:tensorflow:Using a while_loop for converting StatelessRandomUniformV2 cause there is no registered converter for this op.\n",
      "WARNING:tensorflow:Using a while_loop for converting ImageProjectiveTransformV3 cause there is no registered converter for this op.\n",
      "WARNING:tensorflow:Using a while_loop for converting RngReadAndSkip cause there is no registered converter for this op.\n",
      "WARNING:tensorflow:Using a while_loop for converting Bitcast cause there is no registered converter for this op.\n",
      "WARNING:tensorflow:Using a while_loop for converting Bitcast cause there is no registered converter for this op.\n",
      "WARNING:tensorflow:Using a while_loop for converting StatelessRandomUniformV2 cause there is no registered converter for this op.\n",
      "WARNING:tensorflow:Using a while_loop for converting ImageProjectiveTransformV3 cause there is no registered converter for this op.\n",
      "63/63 [==============================] - 18s 199ms/step - loss: 0.7415 - accuracy: 0.5095 - val_loss: 0.6919 - val_accuracy: 0.5660\n",
      "Epoch 2/100\n",
      "63/63 [==============================] - 11s 181ms/step - loss: 0.6967 - accuracy: 0.5410 - val_loss: 1.2631 - val_accuracy: 0.5020\n",
      "Epoch 3/100\n",
      "63/63 [==============================] - 12s 186ms/step - loss: 0.7051 - accuracy: 0.5705 - val_loss: 0.6887 - val_accuracy: 0.5140\n",
      "Epoch 4/100\n",
      "63/63 [==============================] - 12s 187ms/step - loss: 0.6877 - accuracy: 0.6160 - val_loss: 0.6399 - val_accuracy: 0.6190\n",
      "Epoch 5/100\n",
      "63/63 [==============================] - 12s 190ms/step - loss: 0.6435 - accuracy: 0.6270 - val_loss: 0.6291 - val_accuracy: 0.6400\n",
      "Epoch 6/100\n",
      "63/63 [==============================] - 12s 183ms/step - loss: 0.6314 - accuracy: 0.6450 - val_loss: 0.9898 - val_accuracy: 0.5770\n",
      "Epoch 7/100\n",
      "63/63 [==============================] - 12s 188ms/step - loss: 0.6176 - accuracy: 0.6555 - val_loss: 0.6105 - val_accuracy: 0.6660\n",
      "Epoch 8/100\n",
      "63/63 [==============================] - 12s 190ms/step - loss: 0.5948 - accuracy: 0.6945 - val_loss: 0.6085 - val_accuracy: 0.6660\n",
      "Epoch 9/100\n",
      "63/63 [==============================] - 12s 190ms/step - loss: 0.5944 - accuracy: 0.6900 - val_loss: 0.6048 - val_accuracy: 0.6910\n",
      "Epoch 10/100\n",
      "63/63 [==============================] - 12s 188ms/step - loss: 0.5677 - accuracy: 0.7020 - val_loss: 0.6378 - val_accuracy: 0.6300\n",
      "Epoch 11/100\n",
      "63/63 [==============================] - 12s 191ms/step - loss: 0.5768 - accuracy: 0.7205 - val_loss: 0.7648 - val_accuracy: 0.6220\n",
      "Epoch 12/100\n",
      "63/63 [==============================] - 12s 188ms/step - loss: 0.5535 - accuracy: 0.7255 - val_loss: 0.5941 - val_accuracy: 0.6890\n",
      "Epoch 13/100\n",
      "63/63 [==============================] - 12s 191ms/step - loss: 0.5557 - accuracy: 0.7145 - val_loss: 0.5855 - val_accuracy: 0.7100\n",
      "Epoch 14/100\n",
      "63/63 [==============================] - 12s 190ms/step - loss: 0.5353 - accuracy: 0.7295 - val_loss: 0.5806 - val_accuracy: 0.7220\n",
      "Epoch 15/100\n",
      "63/63 [==============================] - 12s 186ms/step - loss: 0.5137 - accuracy: 0.7530 - val_loss: 0.5830 - val_accuracy: 0.6940\n",
      "Epoch 16/100\n",
      "63/63 [==============================] - 12s 185ms/step - loss: 0.5323 - accuracy: 0.7525 - val_loss: 0.5984 - val_accuracy: 0.7150\n",
      "Epoch 17/100\n",
      "63/63 [==============================] - 12s 196ms/step - loss: 0.4936 - accuracy: 0.7585 - val_loss: 0.5619 - val_accuracy: 0.7220\n",
      "Epoch 18/100\n",
      "63/63 [==============================] - 12s 191ms/step - loss: 0.4961 - accuracy: 0.7635 - val_loss: 0.5478 - val_accuracy: 0.7260\n",
      "Epoch 19/100\n",
      "63/63 [==============================] - 12s 188ms/step - loss: 0.4791 - accuracy: 0.7775 - val_loss: 0.4920 - val_accuracy: 0.7640\n",
      "Epoch 20/100\n",
      "63/63 [==============================] - 12s 188ms/step - loss: 0.4679 - accuracy: 0.7835 - val_loss: 0.4935 - val_accuracy: 0.7630\n",
      "Epoch 21/100\n",
      "63/63 [==============================] - 12s 188ms/step - loss: 0.4673 - accuracy: 0.7805 - val_loss: 0.5606 - val_accuracy: 0.7570\n",
      "Epoch 22/100\n",
      "63/63 [==============================] - 12s 188ms/step - loss: 0.4445 - accuracy: 0.7955 - val_loss: 0.6331 - val_accuracy: 0.7070\n",
      "Epoch 23/100\n",
      "63/63 [==============================] - 12s 189ms/step - loss: 0.4362 - accuracy: 0.8100 - val_loss: 0.5968 - val_accuracy: 0.7470\n",
      "Epoch 24/100\n",
      "63/63 [==============================] - 12s 189ms/step - loss: 0.4349 - accuracy: 0.8020 - val_loss: 0.6089 - val_accuracy: 0.7350\n",
      "Epoch 25/100\n",
      "63/63 [==============================] - 12s 189ms/step - loss: 0.4083 - accuracy: 0.8150 - val_loss: 0.4710 - val_accuracy: 0.7800\n",
      "Epoch 26/100\n",
      "63/63 [==============================] - 12s 185ms/step - loss: 0.4021 - accuracy: 0.8245 - val_loss: 0.5720 - val_accuracy: 0.7370\n",
      "Epoch 27/100\n",
      "63/63 [==============================] - 11s 181ms/step - loss: 0.3727 - accuracy: 0.8315 - val_loss: 0.6812 - val_accuracy: 0.7370\n",
      "Epoch 28/100\n",
      "63/63 [==============================] - 12s 190ms/step - loss: 0.3739 - accuracy: 0.8395 - val_loss: 0.6738 - val_accuracy: 0.7010\n",
      "Epoch 29/100\n",
      "63/63 [==============================] - 12s 187ms/step - loss: 0.3597 - accuracy: 0.8360 - val_loss: 0.5669 - val_accuracy: 0.7590\n",
      "Epoch 30/100\n",
      "63/63 [==============================] - 12s 186ms/step - loss: 0.3476 - accuracy: 0.8505 - val_loss: 0.5721 - val_accuracy: 0.7860\n",
      "Epoch 31/100\n",
      "63/63 [==============================] - 12s 186ms/step - loss: 0.3492 - accuracy: 0.8565 - val_loss: 0.5719 - val_accuracy: 0.7520\n",
      "Epoch 32/100\n",
      "63/63 [==============================] - 12s 185ms/step - loss: 0.3417 - accuracy: 0.8520 - val_loss: 0.7806 - val_accuracy: 0.6950\n",
      "Epoch 33/100\n",
      "63/63 [==============================] - 12s 193ms/step - loss: 0.3382 - accuracy: 0.8590 - val_loss: 0.5845 - val_accuracy: 0.7810\n",
      "Epoch 34/100\n",
      "63/63 [==============================] - 12s 186ms/step - loss: 0.3080 - accuracy: 0.8650 - val_loss: 0.6445 - val_accuracy: 0.7650\n",
      "Epoch 35/100\n",
      "63/63 [==============================] - 12s 183ms/step - loss: 0.2943 - accuracy: 0.8695 - val_loss: 0.6367 - val_accuracy: 0.7720\n",
      "Epoch 36/100\n",
      "63/63 [==============================] - 11s 183ms/step - loss: 0.3062 - accuracy: 0.8755 - val_loss: 0.5285 - val_accuracy: 0.7990\n",
      "Epoch 37/100\n",
      "63/63 [==============================] - 12s 185ms/step - loss: 0.2769 - accuracy: 0.8860 - val_loss: 0.6504 - val_accuracy: 0.7530\n",
      "Epoch 38/100\n",
      "63/63 [==============================] - 12s 189ms/step - loss: 0.2793 - accuracy: 0.8880 - val_loss: 0.5846 - val_accuracy: 0.7860\n",
      "Epoch 39/100\n",
      "63/63 [==============================] - 12s 189ms/step - loss: 0.2541 - accuracy: 0.8940 - val_loss: 0.7011 - val_accuracy: 0.7830\n",
      "Epoch 40/100\n",
      "63/63 [==============================] - 12s 185ms/step - loss: 0.2733 - accuracy: 0.8935 - val_loss: 0.5683 - val_accuracy: 0.7730\n",
      "Epoch 41/100\n",
      "63/63 [==============================] - 12s 194ms/step - loss: 0.2661 - accuracy: 0.8930 - val_loss: 0.8306 - val_accuracy: 0.7590\n",
      "Epoch 42/100\n",
      "63/63 [==============================] - 11s 182ms/step - loss: 0.2437 - accuracy: 0.8945 - val_loss: 0.7533 - val_accuracy: 0.7640\n",
      "Epoch 43/100\n",
      "63/63 [==============================] - 12s 185ms/step - loss: 0.2429 - accuracy: 0.9060 - val_loss: 0.8171 - val_accuracy: 0.7630\n",
      "Epoch 44/100\n",
      "63/63 [==============================] - 12s 185ms/step - loss: 0.2526 - accuracy: 0.9095 - val_loss: 0.6484 - val_accuracy: 0.7920\n",
      "Epoch 45/100\n",
      "63/63 [==============================] - 12s 187ms/step - loss: 0.2159 - accuracy: 0.9125 - val_loss: 0.7325 - val_accuracy: 0.7700\n",
      "Epoch 46/100\n",
      "63/63 [==============================] - 12s 188ms/step - loss: 0.2247 - accuracy: 0.9200 - val_loss: 0.8801 - val_accuracy: 0.7520\n",
      "Epoch 47/100\n",
      "63/63 [==============================] - 12s 184ms/step - loss: 0.2144 - accuracy: 0.9175 - val_loss: 0.7689 - val_accuracy: 0.7850\n",
      "Epoch 48/100\n",
      "63/63 [==============================] - 12s 187ms/step - loss: 0.2147 - accuracy: 0.9110 - val_loss: 0.7014 - val_accuracy: 0.7960\n",
      "Epoch 49/100\n",
      "63/63 [==============================] - 12s 191ms/step - loss: 0.2379 - accuracy: 0.9040 - val_loss: 0.6590 - val_accuracy: 0.7840\n",
      "Epoch 50/100\n",
      "63/63 [==============================] - 12s 188ms/step - loss: 0.2077 - accuracy: 0.9230 - val_loss: 0.8103 - val_accuracy: 0.7560\n",
      "Epoch 51/100\n",
      "63/63 [==============================] - 12s 186ms/step - loss: 0.1864 - accuracy: 0.9215 - val_loss: 0.8768 - val_accuracy: 0.7720\n",
      "Epoch 52/100\n",
      "63/63 [==============================] - 12s 188ms/step - loss: 0.2131 - accuracy: 0.9200 - val_loss: 0.9081 - val_accuracy: 0.8030\n",
      "Epoch 53/100\n",
      "63/63 [==============================] - 12s 191ms/step - loss: 0.2013 - accuracy: 0.9165 - val_loss: 0.7179 - val_accuracy: 0.7830\n",
      "Epoch 54/100\n",
      "63/63 [==============================] - 12s 186ms/step - loss: 0.1971 - accuracy: 0.9250 - val_loss: 0.8516 - val_accuracy: 0.7780\n",
      "Epoch 55/100\n",
      "63/63 [==============================] - 12s 188ms/step - loss: 0.1801 - accuracy: 0.9295 - val_loss: 0.6783 - val_accuracy: 0.8040\n",
      "Epoch 56/100\n",
      "63/63 [==============================] - 12s 185ms/step - loss: 0.1934 - accuracy: 0.9345 - val_loss: 0.7918 - val_accuracy: 0.7690\n",
      "Epoch 57/100\n",
      "63/63 [==============================] - 12s 191ms/step - loss: 0.1794 - accuracy: 0.9325 - val_loss: 0.8455 - val_accuracy: 0.7530\n",
      "Epoch 58/100\n",
      "63/63 [==============================] - 12s 183ms/step - loss: 0.2071 - accuracy: 0.9210 - val_loss: 0.7423 - val_accuracy: 0.7900\n",
      "Epoch 59/100\n",
      "63/63 [==============================] - 12s 189ms/step - loss: 0.1848 - accuracy: 0.9275 - val_loss: 0.7681 - val_accuracy: 0.7540\n",
      "Epoch 60/100\n",
      "63/63 [==============================] - 12s 189ms/step - loss: 0.1807 - accuracy: 0.9320 - val_loss: 0.9966 - val_accuracy: 0.7750\n",
      "Epoch 61/100\n",
      "63/63 [==============================] - 12s 189ms/step - loss: 0.1844 - accuracy: 0.9220 - val_loss: 1.1508 - val_accuracy: 0.7600\n",
      "Epoch 62/100\n",
      "63/63 [==============================] - 12s 185ms/step - loss: 0.1855 - accuracy: 0.9310 - val_loss: 0.8660 - val_accuracy: 0.7810\n",
      "Epoch 63/100\n",
      "63/63 [==============================] - 12s 186ms/step - loss: 0.1540 - accuracy: 0.9505 - val_loss: 1.0047 - val_accuracy: 0.7660\n",
      "Epoch 64/100\n",
      "63/63 [==============================] - 12s 183ms/step - loss: 0.1879 - accuracy: 0.9300 - val_loss: 0.9473 - val_accuracy: 0.7730\n",
      "Epoch 65/100\n",
      "63/63 [==============================] - 12s 186ms/step - loss: 0.1621 - accuracy: 0.9385 - val_loss: 0.8531 - val_accuracy: 0.7990\n",
      "Epoch 66/100\n",
      "63/63 [==============================] - 12s 189ms/step - loss: 0.1645 - accuracy: 0.9345 - val_loss: 1.1242 - val_accuracy: 0.7570\n",
      "Epoch 67/100\n",
      "63/63 [==============================] - 12s 187ms/step - loss: 0.1813 - accuracy: 0.9390 - val_loss: 0.7934 - val_accuracy: 0.7720\n",
      "Epoch 68/100\n",
      "63/63 [==============================] - 12s 189ms/step - loss: 0.1752 - accuracy: 0.9355 - val_loss: 0.8000 - val_accuracy: 0.7970\n",
      "Epoch 69/100\n",
      "63/63 [==============================] - 12s 192ms/step - loss: 0.1691 - accuracy: 0.9390 - val_loss: 1.2431 - val_accuracy: 0.7600\n",
      "Epoch 70/100\n",
      "63/63 [==============================] - 12s 184ms/step - loss: 0.1523 - accuracy: 0.9455 - val_loss: 0.8520 - val_accuracy: 0.8050\n",
      "Epoch 71/100\n",
      "63/63 [==============================] - 12s 188ms/step - loss: 0.1737 - accuracy: 0.9355 - val_loss: 0.7738 - val_accuracy: 0.8120\n",
      "Epoch 72/100\n",
      "63/63 [==============================] - 12s 187ms/step - loss: 0.1555 - accuracy: 0.9525 - val_loss: 0.9380 - val_accuracy: 0.8020\n",
      "Epoch 73/100\n",
      "63/63 [==============================] - 12s 189ms/step - loss: 0.1567 - accuracy: 0.9465 - val_loss: 1.3246 - val_accuracy: 0.7070\n",
      "Epoch 74/100\n",
      "63/63 [==============================] - 12s 187ms/step - loss: 0.1593 - accuracy: 0.9430 - val_loss: 0.8845 - val_accuracy: 0.7870\n",
      "Epoch 75/100\n",
      "63/63 [==============================] - 12s 185ms/step - loss: 0.1911 - accuracy: 0.9340 - val_loss: 1.0034 - val_accuracy: 0.7960\n",
      "Epoch 76/100\n",
      "63/63 [==============================] - 12s 187ms/step - loss: 0.1563 - accuracy: 0.9455 - val_loss: 0.8496 - val_accuracy: 0.8020\n",
      "Epoch 77/100\n",
      "63/63 [==============================] - 12s 188ms/step - loss: 0.1530 - accuracy: 0.9440 - val_loss: 1.1369 - val_accuracy: 0.7800\n",
      "Epoch 78/100\n",
      "63/63 [==============================] - 12s 186ms/step - loss: 0.1568 - accuracy: 0.9475 - val_loss: 0.9379 - val_accuracy: 0.8040\n",
      "Epoch 79/100\n",
      "63/63 [==============================] - 12s 186ms/step - loss: 0.1416 - accuracy: 0.9510 - val_loss: 0.8866 - val_accuracy: 0.7830\n",
      "Epoch 80/100\n",
      "63/63 [==============================] - 12s 184ms/step - loss: 0.1609 - accuracy: 0.9395 - val_loss: 0.8993 - val_accuracy: 0.7990\n",
      "Epoch 81/100\n",
      "63/63 [==============================] - 12s 188ms/step - loss: 0.1490 - accuracy: 0.9485 - val_loss: 1.2379 - val_accuracy: 0.7800\n",
      "Epoch 82/100\n",
      "63/63 [==============================] - 12s 185ms/step - loss: 0.1715 - accuracy: 0.9490 - val_loss: 1.4720 - val_accuracy: 0.7520\n",
      "Epoch 83/100\n",
      "63/63 [==============================] - 11s 183ms/step - loss: 0.1468 - accuracy: 0.9465 - val_loss: 1.0654 - val_accuracy: 0.7870\n",
      "Epoch 84/100\n",
      "63/63 [==============================] - 12s 186ms/step - loss: 0.1511 - accuracy: 0.9515 - val_loss: 0.9486 - val_accuracy: 0.8000\n",
      "Epoch 85/100\n",
      "63/63 [==============================] - 12s 188ms/step - loss: 0.1475 - accuracy: 0.9490 - val_loss: 1.1866 - val_accuracy: 0.7860\n",
      "Epoch 86/100\n",
      "63/63 [==============================] - 12s 187ms/step - loss: 0.1615 - accuracy: 0.9450 - val_loss: 0.9612 - val_accuracy: 0.8040\n",
      "Epoch 87/100\n",
      "63/63 [==============================] - 12s 191ms/step - loss: 0.1672 - accuracy: 0.9450 - val_loss: 1.2755 - val_accuracy: 0.7930\n",
      "Epoch 88/100\n",
      "63/63 [==============================] - 12s 186ms/step - loss: 0.1518 - accuracy: 0.9450 - val_loss: 1.1420 - val_accuracy: 0.7690\n",
      "Epoch 89/100\n",
      "63/63 [==============================] - 12s 189ms/step - loss: 0.1214 - accuracy: 0.9655 - val_loss: 1.2344 - val_accuracy: 0.7930\n",
      "Epoch 90/100\n",
      "63/63 [==============================] - 12s 189ms/step - loss: 0.1495 - accuracy: 0.9520 - val_loss: 1.0401 - val_accuracy: 0.8090\n",
      "Epoch 91/100\n",
      "63/63 [==============================] - 12s 187ms/step - loss: 0.1407 - accuracy: 0.9515 - val_loss: 1.0482 - val_accuracy: 0.8000\n",
      "Epoch 92/100\n",
      "63/63 [==============================] - 12s 186ms/step - loss: 0.1472 - accuracy: 0.9510 - val_loss: 1.0794 - val_accuracy: 0.8010\n",
      "Epoch 93/100\n",
      "63/63 [==============================] - 12s 188ms/step - loss: 0.1668 - accuracy: 0.9510 - val_loss: 0.9217 - val_accuracy: 0.8150\n",
      "Epoch 94/100\n",
      "63/63 [==============================] - 12s 190ms/step - loss: 0.1105 - accuracy: 0.9625 - val_loss: 1.2079 - val_accuracy: 0.7920\n",
      "Epoch 95/100\n",
      "63/63 [==============================] - 11s 183ms/step - loss: 0.1590 - accuracy: 0.9490 - val_loss: 1.2052 - val_accuracy: 0.8020\n",
      "Epoch 96/100\n",
      "63/63 [==============================] - 12s 186ms/step - loss: 0.1549 - accuracy: 0.9480 - val_loss: 1.3653 - val_accuracy: 0.7660\n",
      "Epoch 97/100\n",
      "63/63 [==============================] - 12s 191ms/step - loss: 0.1647 - accuracy: 0.9480 - val_loss: 1.0305 - val_accuracy: 0.8140\n",
      "Epoch 98/100\n",
      "63/63 [==============================] - 12s 187ms/step - loss: 0.1474 - accuracy: 0.9535 - val_loss: 1.1546 - val_accuracy: 0.8210\n",
      "Epoch 99/100\n",
      "63/63 [==============================] - 12s 184ms/step - loss: 0.1658 - accuracy: 0.9525 - val_loss: 1.0450 - val_accuracy: 0.7970\n",
      "Epoch 100/100\n",
      "63/63 [==============================] - 12s 188ms/step - loss: 0.1158 - accuracy: 0.9635 - val_loss: 0.9519 - val_accuracy: 0.7880\n"
     ]
    }
   ],
   "source": [
    "callbacks = [ \n",
    "    keras.callbacks.ModelCheckpoint( \n",
    "                                  filepath=\"CatsVsDogs_UsingAugmentation.keras\", \n",
    "                                  save_best_only=True, \n",
    "                                  monitor=\"val_loss\"\n",
    "                                    ) \n",
    "            ]\n",
    "\n",
    "history = model.fit( \n",
    "    tr_d,\n",
    "    epochs=100,\n",
    "    validation_data=va_d,\n",
    "    callbacks=callbacks\n",
    ")"
   ]
  },
  {
   "cell_type": "markdown",
   "id": "981f2a6e-e78e-45c7-bcf1-8e314d3d33fc",
   "metadata": {},
   "source": [
    "### Ploting the training stats "
   ]
  },
  {
   "cell_type": "code",
   "execution_count": 12,
   "id": "7081c70f-8ee2-4aaf-9eb4-13f85dbc6eac",
   "metadata": {},
   "outputs": [
    {
     "data": {
      "image/png": "[encoded data removed]",
      "text/plain": [
       "<Figure size 432x288 with 1 Axes>"
      ]
     },
     "metadata": {
      "needs_background": "light"
     },
     "output_type": "display_data"
    },
    {
     "data": {
      "image/png": "[encoded data removed]",
      "text/plain": [
       "<Figure size 432x288 with 1 Axes>"
      ]
     },
     "metadata": {
      "needs_background": "light"
     },
     "output_type": "display_data"
    },
    {
     "data": {
      "text/plain": [
       "<Figure size 432x288 with 0 Axes>"
      ]
     },
     "metadata": {},
     "output_type": "display_data"
    }
   ],
   "source": [
    "# Accuracy\n",
    "accuracy = history.history['accuracy']\n",
    "val_accuracy = history.history['val_accuracy']\n",
    "\n",
    "#epochsss\n",
    "loss = history.history['loss']\n",
    "val_loss = history.history['val_loss']\n",
    "\n",
    "epochs = range (1, len(accuracy) + 1)\n",
    "\n",
    "plt.plot(epochs, accuracy, 'bo', label='Training accuracy')\n",
    "plt.plot(epochs, val_accuracy, 'b', label='Validation accuracy')\n",
    "plt.title('Training and Validation accuracy')\n",
    "plt.legend(), plt.figure();\n",
    "\n",
    "plt.plot(epochs, loss, 'bo', label='Training loss')\n",
    "plt.plot(epochs, val_loss, 'b', label='Validation loss')\n",
    "plt.title('Training and Validation loss')\n",
    "plt.legend(), plt.figure();"
   ]
  },
  {
   "cell_type": "markdown",
   "id": "8e702fcf-f65f-4585-bc69-35ceec1dc7b4",
   "metadata": {},
   "source": [
    "### Model evaluation"
   ]
  },
  {
   "cell_type": "code",
   "execution_count": 14,
   "id": "d20f93ec-9c63-4054-baf2-fdf088c401eb",
   "metadata": {},
   "outputs": [
    {
     "name": "stdout",
     "output_type": "stream",
     "text": [
      "63/63 [==============================] - 1s 15ms/step - loss: 0.5159 - accuracy: 0.7620\n",
      "Test accuacy: 0.762\n"
     ]
    }
   ],
   "source": [
    "te_m = keras.models.load_model('CatsVsDogs_UsingAugmentation.keras')\n",
    "\n",
    "te_loss, te_acc = te_m.evaluate(te_d)\n",
    "\n",
    "print(f'Test accuacy: {te_acc:.3f}')"
   ]
  },
  {
   "cell_type": "code",
   "execution_count": null,
   "id": "2da893a8-3a5b-4b26-b672-900ecb0f1bc8",
   "metadata": {},
   "outputs": [],
   "source": []
  }
 ],
 "metadata": {
  "kernelspec": {
   "display_name": "Python 3",
   "language": "python",
   "name": "python3"
  },
  "language_info": {
   "codemirror_mode": {
    "name": "ipython",
    "version": 3
   },
   "file_extension": ".py",
   "mimetype": "text/x-python",
   "name": "python",
   "nbconvert_exporter": "python",
   "pygments_lexer": "ipython3",
   "version": "3.9.16"
  }
 },
 "nbformat": 4,
 "nbformat_minor": 5
}
