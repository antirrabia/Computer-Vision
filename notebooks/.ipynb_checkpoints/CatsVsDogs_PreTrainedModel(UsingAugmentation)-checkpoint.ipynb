{
 "cells": [
  {
   "cell_type": "code",
   "execution_count": 1,
   "id": "d15f150e-a2e5-499f-a421-ac9c18fbf918",
   "metadata": {},
   "outputs": [],
   "source": [
    "import tensorflow as tf\n",
    "import pathlib\n",
    "\n",
    "from tensorflow import keras\n",
    "from tensorflow.keras import layers\n",
    "from tensorflow.keras.utils import image_dataset_from_directory\n",
    "\n",
    "import matplotlib.pyplot as plt\n",
    "import seaborn.objects as so\n",
    "import seaborn as sns\n",
    "import numpy as np"
   ]
  },
  {
   "cell_type": "markdown",
   "id": "69596e85-4176-4140-be52-7f9e125592e6",
   "metadata": {},
   "source": [
    "### Testing the number of GPU"
   ]
  },
  {
   "cell_type": "code",
   "execution_count": 2,
   "id": "ee252fe5-f404-4b4f-9eff-6e6779a1e80b",
   "metadata": {},
   "outputs": [
    {
     "name": "stdout",
     "output_type": "stream",
     "text": [
      "Number of GPU: 2\n"
     ]
    }
   ],
   "source": [
    "print(f\"Number of GPU: { len( tf.config.list_physical_devices('GPU'))}\")"
   ]
  },
  {
   "cell_type": "markdown",
   "id": "fd377a85-a09f-4f50-86e1-935c45ad7129",
   "metadata": {},
   "source": [
    "### Reading the DATA"
   ]
  },
  {
   "cell_type": "code",
   "execution_count": 3,
   "id": "30c77b47-b489-4149-98f5-e9fdc26fd8a7",
   "metadata": {},
   "outputs": [],
   "source": [
    "w_dir = pathlib.Path('/home/antirrabia/Documents/DeepLearnin/DATASETS/CatsVsDogs/cats_vs_dogs_small/')"
   ]
  },
  {
   "cell_type": "code",
   "execution_count": 5,
   "id": "895fafbf-fe3c-404d-bf57-1672a40169ff",
   "metadata": {},
   "outputs": [
    {
     "name": "stdout",
     "output_type": "stream",
     "text": [
      "Found 2000 files belonging to 2 classes.\n",
      "Found 1000 files belonging to 2 classes.\n",
      "Found 2000 files belonging to 2 classes.\n"
     ]
    }
   ],
   "source": [
    "tr_d = image_dataset_from_directory(\n",
    "    w_dir / 'train',\n",
    "    image_size=(180,180),\n",
    "    batch_size=32\n",
    ")\n",
    "\n",
    "va_d = image_dataset_from_directory(\n",
    "    w_dir / 'validation',\n",
    "    image_size=(180,180),\n",
    "    batch_size=32\n",
    ")\n",
    "\n",
    "te_d = image_dataset_from_directory(\n",
    "    w_dir / 'test',\n",
    "    image_size=(180,180),\n",
    "    batch_size=32\n",
    ")"
   ]
  },
  {
   "cell_type": "markdown",
   "id": "2e0ee5cd-8163-44f7-a173-bedba9675100",
   "metadata": {},
   "source": [
    "### importing and freezing VGG16"
   ]
  },
  {
   "cell_type": "code",
   "execution_count": null,
   "id": "9eb99007-fe36-4959-88f4-29d2aa377a65",
   "metadata": {},
   "outputs": [],
   "source": [
    "conv_base = keras.applications.vgg16.VGG16(\n",
    "    include_top=False,\n",
    "    weights='imagenet'\n",
    ")\n",
    "\n",
    "# Freezing\n",
    "conv_base.trainable = False"
   ]
  },
  {
   "cell_type": "code",
   "execution_count": null,
   "id": "0cb707df-f19f-4894-a40e-8578a203ba58",
   "metadata": {},
   "outputs": [],
   "source": []
  }
 ],
 "metadata": {
  "kernelspec": {
   "display_name": "Python 3 (ipykernel)",
   "language": "python",
   "name": "python3"
  },
  "language_info": {
   "codemirror_mode": {
    "name": "ipython",
    "version": 3
   },
   "file_extension": ".py",
   "mimetype": "text/x-python",
   "name": "python",
   "nbconvert_exporter": "python",
   "pygments_lexer": "ipython3",
   "version": "3.9.16"
  }
 },
 "nbformat": 4,
 "nbformat_minor": 5
}
