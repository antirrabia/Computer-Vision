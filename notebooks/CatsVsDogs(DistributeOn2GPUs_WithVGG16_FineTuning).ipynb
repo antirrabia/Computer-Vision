{
 "cells": [
  {
   "cell_type": "code",
   "execution_count": null,
   "id": "53ae349b-a32a-4465-9469-c4faee17e5a3",
   "metadata": {},
   "outputs": [],
   "source": [
    "import os\n",
    "os.environ['TF_PCC_MIN_LOG_LEVEL'] = '3'"
   ]
  },
  {
   "cell_type": "code",
   "execution_count": 1,
   "id": "654a3c01-783b-48e2-9d59-81d268ba805f",
   "metadata": {},
   "outputs": [],
   "source": [
    "import pathlib\n",
    "\n",
    "import tensorflow as tf\n",
    "from tensorflow import keras\n",
    "from tensorflow.keras import layers\n",
    "from tensorflow.keras.utils import image_dataset_from_directory\n",
    "\n",
    "import matplotlib.pyplot as plt\n",
    "import seaborn.objects as so\n",
    "import seaborn as sns\n",
    "import numpy as np"
   ]
  },
  {
   "cell_type": "markdown",
   "id": "de0c0433-4abd-4103-92a8-fb586170f9bf",
   "metadata": {},
   "source": [
    "### Compilation Strategy"
   ]
  },
  {
   "cell_type": "code",
   "execution_count": 2,
   "id": "25d56f57-382a-4319-8a21-8a0e18ddd5b9",
   "metadata": {},
   "outputs": [
    {
     "name": "stdout",
     "output_type": "stream",
     "text": [
      "INFO:tensorflow:Using MirroredStrategy with devices ('/job:localhost/replica:0/task:0/device:GPU:0', '/job:localhost/replica:0/task:0/device:GPU:1')\n"
     ]
    }
   ],
   "source": [
    "strategy = tf.distribute.MirroredStrategy()"
   ]
  },
  {
   "cell_type": "code",
   "execution_count": null,
   "id": "45de8e72-8e1b-4236-b433-0926c602963b",
   "metadata": {},
   "outputs": [],
   "source": [
    "# to ensure no logs\n",
    "import os\n",
    "os.environ['TF_CPP_MIN_LOG_LEVEL'] = '3'"
   ]
  },
  {
   "cell_type": "code",
   "execution_count": 3,
   "id": "c384be72-d94d-4457-a2ff-1be5ebb6b42d",
   "metadata": {},
   "outputs": [
    {
     "name": "stdout",
     "output_type": "stream",
     "text": [
      "Number of devices: 2\n"
     ]
    }
   ],
   "source": [
    "print(f\"Number of devices: {strategy.num_replicas_in_sync}\")"
   ]
  },
  {
   "cell_type": "markdown",
   "id": "12a09957-1daf-4fac-a02f-1516bc7af30b",
   "metadata": {},
   "source": [
    "### Reading the data"
   ]
  },
  {
   "cell_type": "code",
   "execution_count": 4,
   "id": "c46c77a0-7cc1-4cf4-afd4-2504be593159",
   "metadata": {},
   "outputs": [],
   "source": [
    "w_dir = pathlib.Path('/home/antirrabia/Documents/DeepLearnin/DATASETS/CatsVsDogs/cats_vs_dogs_small/')"
   ]
  },
  {
   "cell_type": "code",
   "execution_count": 5,
   "id": "34ad39a4-37d0-45da-9d98-5a34882fc094",
   "metadata": {},
   "outputs": [
    {
     "name": "stdout",
     "output_type": "stream",
     "text": [
      "Found 2000 files belonging to 2 classes.\n",
      "Found 1000 files belonging to 2 classes.\n",
      "Found 2000 files belonging to 2 classes.\n"
     ]
    }
   ],
   "source": [
    "tr_d = image_dataset_from_directory(\n",
    "    w_dir / 'train',\n",
    "    image_size=(180,180),\n",
    "    batch_size=32\n",
    ")\n",
    "\n",
    "va_d = image_dataset_from_directory(\n",
    "    w_dir / 'validation',\n",
    "    image_size=(180,180),\n",
    "    batch_size=32\n",
    ")\n",
    "\n",
    "te_d = image_dataset_from_directory(\n",
    "    w_dir / 'test',\n",
    "    image_size=(180,180),\n",
    "    batch_size=32\n",
    ")"
   ]
  },
  {
   "cell_type": "markdown",
   "id": "1d09c36c-f200-42a1-9117-b2addb378a56",
   "metadata": {},
   "source": [
    "### Augmentation"
   ]
  },
  {
   "cell_type": "code",
   "execution_count": 6,
   "id": "271fecb2-b7ca-4efb-9696-ed69823a33b4",
   "metadata": {},
   "outputs": [],
   "source": [
    "data_augmentation = keras.Sequential(\n",
    "    [\n",
    "        layers.RandomFlip('horizontal'),\n",
    "        layers.RandomRotation(0.1),\n",
    "        layers.RandomZoom(0.2)\n",
    "    ]\n",
    ")"
   ]
  },
  {
   "cell_type": "markdown",
   "id": "563e0f17-0fc3-44d5-8791-50ec6f4d303b",
   "metadata": {
    "tags": []
   },
   "source": [
    "### The Classifier incorporating the VGG16 model"
   ]
  },
  {
   "cell_type": "code",
   "execution_count": null,
   "id": "c1800037-be62-4662-946b-7ab82c68884d",
   "metadata": {},
   "outputs": [],
   "source": [
    "conv_base = keras.applications.vgg16.VGG16(\n",
    "    include_top=False,\n",
    "    weights='imagenet'\n",
    ")\n",
    "\n",
    "conv_base.trainable = False"
   ]
  },
  {
   "cell_type": "code",
   "execution_count": 7,
   "id": "45ede4a6-9668-4d73-bb15-4496c4580c5b",
   "metadata": {},
   "outputs": [],
   "source": [
    "def get_model():\n",
    "    inputs = keras.Input(shape=(180,180,3))\n",
    "    \n",
    "    x = data_augmentation(inputs)\n",
    "    \n",
    "    # Features straction using VGG16\n",
    "    x = keras.applications.vgg16.preprocess_input(x)\n",
    "    \n",
    "    conv_base = keras.applications.vgg16.VGG16(\n",
    "    include_top=False,\n",
    "    weights='imagenet'\n",
    "    )\n",
    "\n",
    "    conv_base.trainable = False\n",
    "    \n",
    "    x = conv_base(x)\n",
    "    \n",
    "    # my clasifier\n",
    "    x = layers.Flatten()(x)\n",
    "    x = layers.Dense(256)(x)\n",
    "    x = layers.Dropout(0.5)(x)\n",
    "    \n",
    "    outputs = layers.Dense(1, activation='sigmoid')(x)\n",
    "    \n",
    "    model = keras.Model(inputs, outputs)\n",
    "    \n",
    "    return model"
   ]
  },
  {
   "cell_type": "code",
   "execution_count": 8,
   "id": "adf4340d-753c-42a6-a087-483c7aa206a2",
   "metadata": {},
   "outputs": [],
   "source": [
    "# to uses all the available GPUs\n",
    "with strategy.scope():\n",
    "    model = get_model()\n",
    "    model.compile(\n",
    "        optimizer='rmsprop',\n",
    "        loss='binary_crossentropy',\n",
    "        metrics=['accuracy']\n",
    "    )"
   ]
  },
  {
   "cell_type": "code",
   "execution_count": 9,
   "id": "264a74bf-9593-4ea1-b301-9ab5193615aa",
   "metadata": {
    "tags": []
   },
   "outputs": [
    {
     "name": "stdout",
     "output_type": "stream",
     "text": [
      "Epoch 1/52\n",
      "INFO:tensorflow:batch_all_reduce: 4 all-reduces with algorithm = nccl, num_packs = 1\n",
      "INFO:tensorflow:Reduce to /job:localhost/replica:0/task:0/device:CPU:0 then broadcast to ('/job:localhost/replica:0/task:0/device:CPU:0',).\n",
      "INFO:tensorflow:Reduce to /job:localhost/replica:0/task:0/device:CPU:0 then broadcast to ('/job:localhost/replica:0/task:0/device:CPU:0',).\n",
      "INFO:tensorflow:Reduce to /job:localhost/replica:0/task:0/device:CPU:0 then broadcast to ('/job:localhost/replica:0/task:0/device:CPU:0',).\n",
      "INFO:tensorflow:Reduce to /job:localhost/replica:0/task:0/device:CPU:0 then broadcast to ('/job:localhost/replica:0/task:0/device:CPU:0',).\n",
      "INFO:tensorflow:Reduce to /job:localhost/replica:0/task:0/device:CPU:0 then broadcast to ('/job:localhost/replica:0/task:0/device:CPU:0',).\n",
      "INFO:tensorflow:batch_all_reduce: 4 all-reduces with algorithm = nccl, num_packs = 1\n",
      "INFO:tensorflow:Reduce to /job:localhost/replica:0/task:0/device:CPU:0 then broadcast to ('/job:localhost/replica:0/task:0/device:CPU:0',).\n",
      "INFO:tensorflow:Reduce to /job:localhost/replica:0/task:0/device:CPU:0 then broadcast to ('/job:localhost/replica:0/task:0/device:CPU:0',).\n",
      "INFO:tensorflow:Reduce to /job:localhost/replica:0/task:0/device:CPU:0 then broadcast to ('/job:localhost/replica:0/task:0/device:CPU:0',).\n",
      "INFO:tensorflow:Reduce to /job:localhost/replica:0/task:0/device:CPU:0 then broadcast to ('/job:localhost/replica:0/task:0/device:CPU:0',).\n",
      "63/63 [==============================] - ETA: 0s - loss: 17.1097 - accuracy: 0.8960INFO:tensorflow:Reduce to /job:localhost/replica:0/task:0/device:CPU:0 then broadcast to ('/job:localhost/replica:0/task:0/device:CPU:0',).\n",
      "63/63 [==============================] - 20s 185ms/step - loss: 17.1097 - accuracy: 0.8960 - val_loss: 3.9387 - val_accuracy: 0.9770\n",
      "Epoch 2/52\n",
      "63/63 [==============================] - 8s 121ms/step - loss: 6.8207 - accuracy: 0.9450 - val_loss: 5.1661 - val_accuracy: 0.9620\n",
      "Epoch 3/52\n",
      "63/63 [==============================] - 8s 120ms/step - loss: 4.4604 - accuracy: 0.9625 - val_loss: 4.1570 - val_accuracy: 0.9670\n",
      "Epoch 4/52\n",
      "63/63 [==============================] - 8s 124ms/step - loss: 4.6375 - accuracy: 0.9620 - val_loss: 4.7768 - val_accuracy: 0.9750\n",
      "Epoch 5/52\n",
      "63/63 [==============================] - 8s 128ms/step - loss: 4.1309 - accuracy: 0.9645 - val_loss: 3.8703 - val_accuracy: 0.9790\n",
      "Epoch 6/52\n",
      "63/63 [==============================] - 8s 126ms/step - loss: 3.4265 - accuracy: 0.9705 - val_loss: 4.6285 - val_accuracy: 0.9740\n",
      "Epoch 7/52\n",
      "63/63 [==============================] - 8s 125ms/step - loss: 2.4167 - accuracy: 0.9770 - val_loss: 4.1277 - val_accuracy: 0.9770\n",
      "Epoch 8/52\n",
      "63/63 [==============================] - 8s 125ms/step - loss: 3.5884 - accuracy: 0.9725 - val_loss: 3.9885 - val_accuracy: 0.9810\n",
      "Epoch 9/52\n",
      "63/63 [==============================] - 8s 134ms/step - loss: 2.9276 - accuracy: 0.9705 - val_loss: 3.8561 - val_accuracy: 0.9760\n",
      "Epoch 10/52\n",
      "63/63 [==============================] - 8s 132ms/step - loss: 3.0886 - accuracy: 0.9775 - val_loss: 3.6897 - val_accuracy: 0.9770\n",
      "Epoch 11/52\n",
      "63/63 [==============================] - 8s 126ms/step - loss: 2.2004 - accuracy: 0.9755 - val_loss: 3.7680 - val_accuracy: 0.9780\n",
      "Epoch 12/52\n",
      "63/63 [==============================] - 8s 126ms/step - loss: 2.3283 - accuracy: 0.9775 - val_loss: 4.2293 - val_accuracy: 0.9810\n",
      "Epoch 13/52\n",
      "63/63 [==============================] - 8s 124ms/step - loss: 2.3557 - accuracy: 0.9725 - val_loss: 6.1020 - val_accuracy: 0.9710\n",
      "Epoch 14/52\n",
      "63/63 [==============================] - 8s 134ms/step - loss: 2.4412 - accuracy: 0.9690 - val_loss: 3.5372 - val_accuracy: 0.9810\n",
      "Epoch 15/52\n",
      "63/63 [==============================] - 8s 132ms/step - loss: 1.8057 - accuracy: 0.9780 - val_loss: 3.6399 - val_accuracy: 0.9790\n",
      "Epoch 16/52\n",
      "63/63 [==============================] - 8s 128ms/step - loss: 2.1512 - accuracy: 0.9745 - val_loss: 2.4870 - val_accuracy: 0.9810\n",
      "Epoch 17/52\n",
      "63/63 [==============================] - 8s 125ms/step - loss: 1.8678 - accuracy: 0.9775 - val_loss: 4.1200 - val_accuracy: 0.9740\n",
      "Epoch 18/52\n",
      "63/63 [==============================] - 8s 126ms/step - loss: 0.9685 - accuracy: 0.9840 - val_loss: 2.5977 - val_accuracy: 0.9790\n",
      "Epoch 19/52\n",
      "63/63 [==============================] - 8s 128ms/step - loss: 0.7872 - accuracy: 0.9880 - val_loss: 2.5165 - val_accuracy: 0.9810\n",
      "Epoch 20/52\n",
      "63/63 [==============================] - 8s 127ms/step - loss: 1.3835 - accuracy: 0.9820 - val_loss: 3.4435 - val_accuracy: 0.9770\n",
      "Epoch 21/52\n",
      "63/63 [==============================] - 8s 126ms/step - loss: 1.7053 - accuracy: 0.9765 - val_loss: 2.8692 - val_accuracy: 0.9780\n",
      "Epoch 22/52\n",
      "63/63 [==============================] - 8s 126ms/step - loss: 1.0616 - accuracy: 0.9840 - val_loss: 3.5170 - val_accuracy: 0.9750\n",
      "Epoch 23/52\n",
      "63/63 [==============================] - 8s 126ms/step - loss: 0.8191 - accuracy: 0.9870 - val_loss: 2.6812 - val_accuracy: 0.9810\n",
      "Epoch 24/52\n",
      "63/63 [==============================] - 8s 132ms/step - loss: 1.0311 - accuracy: 0.9870 - val_loss: 2.4376 - val_accuracy: 0.9810\n",
      "Epoch 25/52\n",
      "63/63 [==============================] - 8s 128ms/step - loss: 1.2557 - accuracy: 0.9845 - val_loss: 3.2632 - val_accuracy: 0.9800\n",
      "Epoch 26/52\n",
      "63/63 [==============================] - 8s 132ms/step - loss: 0.9188 - accuracy: 0.9845 - val_loss: 2.3451 - val_accuracy: 0.9800\n",
      "Epoch 27/52\n",
      "63/63 [==============================] - 8s 125ms/step - loss: 1.1322 - accuracy: 0.9850 - val_loss: 2.3631 - val_accuracy: 0.9820\n",
      "Epoch 28/52\n",
      "63/63 [==============================] - 8s 130ms/step - loss: 1.0145 - accuracy: 0.9840 - val_loss: 2.0934 - val_accuracy: 0.9810\n",
      "Epoch 29/52\n",
      "63/63 [==============================] - 8s 128ms/step - loss: 0.9165 - accuracy: 0.9845 - val_loss: 3.0197 - val_accuracy: 0.9730\n",
      "Epoch 30/52\n",
      "63/63 [==============================] - 8s 126ms/step - loss: 0.8367 - accuracy: 0.9855 - val_loss: 2.8415 - val_accuracy: 0.9760\n",
      "Epoch 31/52\n",
      "63/63 [==============================] - 8s 130ms/step - loss: 0.9797 - accuracy: 0.9830 - val_loss: 2.3061 - val_accuracy: 0.9790\n",
      "Epoch 32/52\n",
      "63/63 [==============================] - 8s 132ms/step - loss: 0.7081 - accuracy: 0.9885 - val_loss: 1.8977 - val_accuracy: 0.9810\n",
      "Epoch 33/52\n",
      "63/63 [==============================] - 8s 125ms/step - loss: 0.9591 - accuracy: 0.9830 - val_loss: 1.9018 - val_accuracy: 0.9800\n",
      "Epoch 34/52\n",
      "63/63 [==============================] - 8s 127ms/step - loss: 0.6603 - accuracy: 0.9845 - val_loss: 3.2779 - val_accuracy: 0.9720\n",
      "Epoch 35/52\n",
      "63/63 [==============================] - 8s 125ms/step - loss: 1.4923 - accuracy: 0.9785 - val_loss: 2.1421 - val_accuracy: 0.9760\n",
      "Epoch 36/52\n",
      "63/63 [==============================] - 8s 126ms/step - loss: 0.7420 - accuracy: 0.9870 - val_loss: 3.2714 - val_accuracy: 0.9720\n",
      "Epoch 37/52\n",
      "63/63 [==============================] - 8s 126ms/step - loss: 0.5481 - accuracy: 0.9865 - val_loss: 1.9957 - val_accuracy: 0.9790\n",
      "Epoch 38/52\n",
      "63/63 [==============================] - 8s 128ms/step - loss: 0.5668 - accuracy: 0.9885 - val_loss: 2.4038 - val_accuracy: 0.9810\n",
      "Epoch 39/52\n",
      "63/63 [==============================] - 8s 126ms/step - loss: 0.6944 - accuracy: 0.9850 - val_loss: 2.1624 - val_accuracy: 0.9810\n",
      "Epoch 40/52\n",
      "63/63 [==============================] - 8s 127ms/step - loss: 0.6136 - accuracy: 0.9855 - val_loss: 2.6766 - val_accuracy: 0.9770\n",
      "Epoch 41/52\n",
      "63/63 [==============================] - 8s 125ms/step - loss: 0.6571 - accuracy: 0.9865 - val_loss: 2.4652 - val_accuracy: 0.9760\n",
      "Epoch 42/52\n",
      "63/63 [==============================] - 8s 127ms/step - loss: 0.4404 - accuracy: 0.9890 - val_loss: 2.5362 - val_accuracy: 0.9760\n",
      "Epoch 43/52\n",
      "63/63 [==============================] - 8s 129ms/step - loss: 0.5436 - accuracy: 0.9875 - val_loss: 2.4270 - val_accuracy: 0.9810\n",
      "Epoch 44/52\n",
      "63/63 [==============================] - 8s 127ms/step - loss: 0.4702 - accuracy: 0.9910 - val_loss: 2.0653 - val_accuracy: 0.9750\n",
      "Epoch 45/52\n",
      "63/63 [==============================] - 8s 132ms/step - loss: 0.4474 - accuracy: 0.9860 - val_loss: 1.4967 - val_accuracy: 0.9830\n",
      "Epoch 46/52\n",
      "63/63 [==============================] - 8s 129ms/step - loss: 0.5138 - accuracy: 0.9895 - val_loss: 1.6475 - val_accuracy: 0.9790\n",
      "Epoch 47/52\n",
      "63/63 [==============================] - 8s 128ms/step - loss: 0.8834 - accuracy: 0.9845 - val_loss: 1.8493 - val_accuracy: 0.9790\n",
      "Epoch 48/52\n",
      "63/63 [==============================] - 8s 124ms/step - loss: 0.3415 - accuracy: 0.9905 - val_loss: 1.9903 - val_accuracy: 0.9840\n",
      "Epoch 49/52\n",
      "63/63 [==============================] - 8s 131ms/step - loss: 0.6790 - accuracy: 0.9890 - val_loss: 1.3245 - val_accuracy: 0.9850\n",
      "Epoch 50/52\n",
      "63/63 [==============================] - 8s 125ms/step - loss: 0.6241 - accuracy: 0.9885 - val_loss: 1.9709 - val_accuracy: 0.9780\n",
      "Epoch 51/52\n",
      "63/63 [==============================] - 8s 124ms/step - loss: 0.3379 - accuracy: 0.9900 - val_loss: 2.0275 - val_accuracy: 0.9790\n",
      "Epoch 52/52\n",
      "63/63 [==============================] - 8s 125ms/step - loss: 0.2495 - accuracy: 0.9925 - val_loss: 3.9888 - val_accuracy: 0.9670\n"
     ]
    }
   ],
   "source": [
    "callbacks = [ \n",
    "    keras.callbacks.ModelCheckpoint(\n",
    "        filepath='strategy.keras',\n",
    "        save_best_only=True,\n",
    "        monitor='val_loss'\n",
    "    ),\n",
    "    \n",
    "    # Monitoring the traing on TensorBoard\n",
    "    keras.callbacks.TensorBoard(\n",
    "        log_dir='/home/antirrabia/Documents/DeepLearnin/Notebooks/TensorBoard_Logs/'\n",
    "    )\n",
    "]\n",
    "\n",
    "history = model.fit(\n",
    "    tr_d,\n",
    "    epochs=52,\n",
    "    validation_data=va_d,\n",
    "    callbacks=callbacks\n",
    ")"
   ]
  },
  {
   "cell_type": "markdown",
   "id": "a8306711-62a3-4937-9fb8-039ecdcefef1",
   "metadata": {},
   "source": [
    "### Before Fine-tunning"
   ]
  },
  {
   "cell_type": "code",
   "execution_count": 10,
   "id": "1339818b-b262-4068-95c5-1d0bb5fc2cc3",
   "metadata": {},
   "outputs": [],
   "source": [
    "# Accuracy\n",
    "accuracy = history.history['accuracy']\n",
    "val_acc  = history.history['val_accuracy']\n",
    "\n",
    "# Loss\n",
    "loss = history.history['loss']\n",
    "val_loss = history.history['val_loss']\n",
    "\n",
    "epochs = range(1, len(accuracy) + 1)"
   ]
  },
  {
   "cell_type": "code",
   "execution_count": 11,
   "id": "73a2def2-97e1-4cdc-bbe2-7236bfe8011d",
   "metadata": {},
   "outputs": [
    {
     "data": {
      "text/plain": [
       "Text(0.5, 1.0, 'Training and Validation Loss')"
      ]
     },
     "execution_count": 11,
     "metadata": {},
     "output_type": "execute_result"
    },
    {
     "data": {
      "image/png": "[encoded data removed]",
      "text/plain": [
       "<Figure size 2000x800 with 2 Axes>"
      ]
     },
     "metadata": {},
     "output_type": "display_data"
    }
   ],
   "source": [
    "fig, ax = plt.subplots(nrows=1, ncols=2, figsize=(20,8))\n",
    "\n",
    "ax[0].plot(epochs, accuracy, 'bo', label='Training Accuracy')\n",
    "ax[0].plot(epochs, val_acc, 'b', label='Validation Accuracy')\n",
    "\n",
    "ax[0].set_title('Training and Validation Accuracy')\n",
    "# plt.legend(), plt.figure();\n",
    "\n",
    "ax[1].plot(epochs, loss, 'bo', label='Training Loss')\n",
    "ax[1].plot(epochs, val_loss, 'b', label='Validation Loss')\n",
    "ax[1].set_title('Training and Validation Loss')\n",
    "# plt.legend(), plt.figure();"
   ]
  },
  {
   "cell_type": "code",
   "execution_count": 12,
   "id": "a93fcdcb-d271-4310-8b0b-c27a81605d8c",
   "metadata": {},
   "outputs": [
    {
     "name": "stdout",
     "output_type": "stream",
     "text": [
      "63/63 [==============================] - 10s 107ms/step - loss: 2.0095 - accuracy: 0.9790\n",
      "Before Fine-tunin test accuracy: 0.979\n"
     ]
    }
   ],
   "source": [
    "# Testing the model before fine-tunning\n",
    "ft_te_model = keras.models.load_model('strategy.keras')\n",
    "\n",
    "ft_te_loss, ft_te_acc = ft_te_model.evaluate(te_d)\n",
    "\n",
    "print(f\"Before Fine-tunin test accuracy: {ft_te_acc:.3f}\")"
   ]
  },
  {
   "cell_type": "code",
   "execution_count": null,
   "id": "cafa9dea-d4f2-4c6f-80e0-8ff73f44a1cf",
   "metadata": {},
   "outputs": [],
   "source": []
  },
  {
   "cell_type": "markdown",
   "id": "22704eca-fb44-4636-b4ee-eb1e833b79a9",
   "metadata": {},
   "source": [
    "### Fine-tunning State"
   ]
  },
  {
   "cell_type": "code",
   "execution_count": null,
   "id": "ab179920-f568-49d0-8b25-1731398e7cf0",
   "metadata": {},
   "outputs": [
    {
     "ename": "NameError",
     "evalue": "name 'conv_base' is not defined",
     "output_type": "error",
     "traceback": [
      "\u001b[0;31m---------------------------------------------------------------------------\u001b[0m",
      "\u001b[0;31mNameError\u001b[0m                                 Traceback (most recent call last)",
      "Cell \u001b[0;32mIn[13], line 1\u001b[0m\n\u001b[0;32m----> 1\u001b[0m \u001b[43mconv_base\u001b[49m\u001b[38;5;241m.\u001b[39mtrainable \u001b[38;5;241m=\u001b[39m \u001b[38;5;28;01mTrue\u001b[39;00m\n\u001b[1;32m      3\u001b[0m \u001b[38;5;28;01mfor\u001b[39;00m l \u001b[38;5;129;01min\u001b[39;00m conv_base\u001b[38;5;241m.\u001b[39mlayers[:\u001b[38;5;241m-\u001b[39m\u001b[38;5;241m4\u001b[39m]:\n\u001b[1;32m      4\u001b[0m     l\u001b[38;5;241m.\u001b[39mtrainable \u001b[38;5;241m=\u001b[39m \u001b[38;5;28;01mFalse\u001b[39;00m\n",
      "\u001b[0;31mNameError\u001b[0m: name 'conv_base' is not defined"
     ]
    }
   ],
   "source": [
    "conv_base.trainable = True\n",
    "\n",
    "for l in conv_base.layers[:-4]:\n",
    "    l.trainable = False"
   ]
  },
  {
   "cell_type": "code",
   "execution_count": null,
   "id": "902b82d7-e539-46cd-a593-1a679534a492",
   "metadata": {
    "tags": []
   },
   "outputs": [],
   "source": [
    "with strategy.scope():\n",
    "    #model = get_model()\n",
    "    model.compile(\n",
    "        optimizer=keras.optimizers.RMSprop(learning_rate=1e-5),\n",
    "        loss='binary_crossentropy',\n",
    "        metrics=['accuracy']\n",
    "    )"
   ]
  },
  {
   "cell_type": "code",
   "execution_count": null,
   "id": "9566cc82-ef56-4fb9-88b2-d4d9dbd73941",
   "metadata": {},
   "outputs": [],
   "source": [
    "callbacks = [ \n",
    "    keras.callbacks.ModelCheckpoint(\n",
    "        filepath='strategy.keras',\n",
    "        save_best_only=True,\n",
    "        monitor='val_loss'\n",
    "    ) \n",
    "]\n",
    "\n",
    "history = model.fit(\n",
    "    tr_d,\n",
    "    epochs=25,\n",
    "    validation_data=va_d,\n",
    "    callbacks=callbacks\n",
    ")"
   ]
  },
  {
   "cell_type": "code",
   "execution_count": null,
   "id": "d19d076c-b4b0-43f5-ab56-7ecc8160c3f9",
   "metadata": {},
   "outputs": [],
   "source": []
  },
  {
   "cell_type": "code",
   "execution_count": null,
   "id": "ed476300-081a-4d96-a2dc-310033d64263",
   "metadata": {},
   "outputs": [],
   "source": []
  },
  {
   "cell_type": "code",
   "execution_count": null,
   "id": "509b5002-a57b-4eb6-bef7-cc7337a75dfe",
   "metadata": {},
   "outputs": [],
   "source": [
    "# Accuracy\n",
    "accuracy = history.history['accuracy']\n",
    "val_acc  = history.history['val_accuracy']\n",
    "\n",
    "# Loss\n",
    "loss = history.history['loss']\n",
    "val_loss = history.history['val_loss']\n",
    "\n",
    "epochs = range(1, len(accuracy) + 1)\n"
   ]
  },
  {
   "cell_type": "code",
   "execution_count": null,
   "id": "9c008de7-2cef-46c0-8c76-c5c4553d9b74",
   "metadata": {},
   "outputs": [],
   "source": []
  },
  {
   "cell_type": "code",
   "execution_count": null,
   "id": "1b837119-61d2-46b5-9331-33cbe666e893",
   "metadata": {},
   "outputs": [],
   "source": [
    "fig, ax = plt.subplots(nrows=1, ncols=2, figsize=(20,8))\n",
    "\n",
    "ax[0].plot(epochs, accuracy, 'bo', label='Training Accuracy')\n",
    "ax[0].plot(epochs, val_acc, 'b', label='Validation Accuracy')\n",
    "\n",
    "ax[0].set_title('Training and Validation Accuracy')\n",
    "# plt.legend(), plt.figure();\n",
    "\n",
    "ax[1].plot(epochs, loss, 'bo', label='Training Loss')\n",
    "ax[1].plot(epochs, val_loss, 'b', label='Validation Loss')\n",
    "ax[1].set_title('Training and Validation Loss')\n",
    "# plt.legend(), plt.figure();"
   ]
  },
  {
   "cell_type": "code",
   "execution_count": null,
   "id": "458397ab-a651-493d-aefa-6a9faa212dad",
   "metadata": {},
   "outputs": [],
   "source": []
  },
  {
   "cell_type": "code",
   "execution_count": null,
   "id": "c525faa5-2b31-4d9f-8cc6-d885571c84b0",
   "metadata": {},
   "outputs": [],
   "source": [
    "ft_te_model = keras.models.load_model('strategy.keras')\n",
    "\n",
    "ft_te_loss, ft_te_acc = ft_te_model.evaluate(te_d)\n",
    "\n",
    "print(f\"Fine-tunin test accuracy: {ft_te_acc:.3f}\")"
   ]
  },
  {
   "cell_type": "code",
   "execution_count": null,
   "id": "9477c3f0-c9e3-4ec6-98f8-7b16eaab716f",
   "metadata": {},
   "outputs": [],
   "source": []
  },
  {
   "cell_type": "code",
   "execution_count": null,
   "id": "0e7476f1-d3c3-42a3-a0f8-d8023ffea393",
   "metadata": {},
   "outputs": [],
   "source": []
  },
  {
   "cell_type": "code",
   "execution_count": null,
   "id": "0f9519ba-1cd4-45ea-bc46-a407e8e6e7c6",
   "metadata": {},
   "outputs": [],
   "source": []
  },
  {
   "cell_type": "code",
   "execution_count": null,
   "id": "af240be2-b0e7-4f2c-aae1-d933a6bdcf15",
   "metadata": {},
   "outputs": [],
   "source": [
    "# Accuracy\n",
    "accuracy = history.history['accuracy']\n",
    "val_acc = history.history['val_accuracy']\n",
    "\n",
    "# Loss\n",
    "loss = history.history['loss']\n",
    "val_loss = history.history['val_loss']\n",
    "\n",
    "epochs = range(1, len(accuracy) + 1 )"
   ]
  },
  {
   "cell_type": "code",
   "execution_count": null,
   "id": "aeb2f437-fcf8-4100-bfbe-512559113d6c",
   "metadata": {},
   "outputs": [],
   "source": [
    "fig, ax = plt.subplots(1,2, figsize=(20,8))\n",
    "\n",
    "ax[].plot(epochs, accuracy, 'bo', label='Trainin Accuracy')\n",
    "ax[].plot(epochs, val_acc, 'b', label='Validation Accuracy')\n",
    "ax[].set_title('Training and Validation Accuracy')\n",
    "ax.legend(), ax[].figure();\n",
    "\n",
    "ax[].plot(epochs, loss, 'bo', label='Training Loss')\n",
    "ax[].plot(epochs, val_loss, 'b', label='Validation Loss')\n",
    "ax[].set_title('Training and Validation Loss')\n",
    "ax[].legend(), ax[]\n"
   ]
  },
  {
   "cell_type": "code",
   "execution_count": null,
   "id": "b80be39c-4576-4fc6-b35d-6321e254cdb3",
   "metadata": {},
   "outputs": [],
   "source": []
  },
  {
   "cell_type": "code",
   "execution_count": null,
   "id": "08660cb1-f8af-4c62-a0ef-3009593b67d9",
   "metadata": {},
   "outputs": [],
   "source": []
  }
 ],
 "metadata": {
  "kernelspec": {
   "display_name": "Python 3 (ipykernel)",
   "language": "python",
   "name": "python3"
  },
  "language_info": {
   "codemirror_mode": {
    "name": "ipython",
    "version": 3
   },
   "file_extension": ".py",
   "mimetype": "text/x-python",
   "name": "python",
   "nbconvert_exporter": "python",
   "pygments_lexer": "ipython3",
   "version": "3.11.3"
  }
 },
 "nbformat": 4,
 "nbformat_minor": 5
}
