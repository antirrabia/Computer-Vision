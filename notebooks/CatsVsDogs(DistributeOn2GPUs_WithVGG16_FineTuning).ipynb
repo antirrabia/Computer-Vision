{
 "cells": [
  {
   "cell_type": "code",
   "execution_count": null,
   "id": "53ae349b-a32a-4465-9469-c4faee17e5a3",
   "metadata": {},
   "outputs": [],
   "source": [
    "import os\n",
    "os.environ['TF_PCC_MIN_LOG_LEVEL'] = '3'"
   ]
  },
  {
   "cell_type": "code",
   "execution_count": null,
   "id": "654a3c01-783b-48e2-9d59-81d268ba805f",
   "metadata": {},
   "outputs": [],
   "source": [
    "import pathlib\n",
    "\n",
    "import tensorflow as tf\n",
    "from tensorflow import keras\n",
    "from tensorflow.keras import layers\n",
    "from tensorflow.keras.utils import image_dataset_from_directory\n",
    "\n",
    "import matplotlib.pyplot as plt\n",
    "import seaborn.objects as so\n",
    "import seaborn as sns\n",
    "import numpy as np"
   ]
  },
  {
   "cell_type": "markdown",
   "id": "de0c0433-4abd-4103-92a8-fb586170f9bf",
   "metadata": {},
   "source": [
    "### Compilation Strategy"
   ]
  },
  {
   "cell_type": "code",
   "execution_count": null,
   "id": "25d56f57-382a-4319-8a21-8a0e18ddd5b9",
   "metadata": {},
   "outputs": [],
   "source": [
    "strategy = tf.distribute.MirroredStrategy()"
   ]
  },
  {
   "cell_type": "code",
   "execution_count": null,
   "id": "45de8e72-8e1b-4236-b433-0926c602963b",
   "metadata": {},
   "outputs": [],
   "source": [
    "# to ensure no logs\n",
    "import os\n",
    "os.environ['TF_CPP_MIN_LOG_LEVEL'] = '3'"
   ]
  },
  {
   "cell_type": "code",
   "execution_count": null,
   "id": "c384be72-d94d-4457-a2ff-1be5ebb6b42d",
   "metadata": {},
   "outputs": [],
   "source": [
    "print(f\"Number of devices: {strategy.num_replicas_in_sync}\")"
   ]
  },
  {
   "cell_type": "markdown",
   "id": "12a09957-1daf-4fac-a02f-1516bc7af30b",
   "metadata": {},
   "source": [
    "### Reading the data"
   ]
  },
  {
   "cell_type": "code",
   "execution_count": null,
   "id": "c46c77a0-7cc1-4cf4-afd4-2504be593159",
   "metadata": {},
   "outputs": [],
   "source": [
    "w_dir = pathlib.Path('/home/antirrabia/Documents/DeepLearnin/DATASETS/CatsVsDogs/cats_vs_dogs_small/')"
   ]
  },
  {
   "cell_type": "code",
   "execution_count": null,
   "id": "34ad39a4-37d0-45da-9d98-5a34882fc094",
   "metadata": {},
   "outputs": [],
   "source": [
    "tr_d = image_dataset_from_directory(\n",
    "    w_dir / 'train',\n",
    "    image_size=(180,180),\n",
    "    batch_size=32\n",
    ")\n",
    "\n",
    "va_d = image_dataset_from_directory(\n",
    "    w_dir / 'validation',\n",
    "    image_size=(180,180),\n",
    "    batch_size=32\n",
    ")\n",
    "\n",
    "te_d = image_dataset_from_directory(\n",
    "    w_dir / 'test',\n",
    "    image_size=(180,180),\n",
    "    batch_size=32\n",
    ")"
   ]
  },
  {
   "cell_type": "markdown",
   "id": "1d09c36c-f200-42a1-9117-b2addb378a56",
   "metadata": {},
   "source": [
    "### Augmentation"
   ]
  },
  {
   "cell_type": "code",
   "execution_count": null,
   "id": "271fecb2-b7ca-4efb-9696-ed69823a33b4",
   "metadata": {},
   "outputs": [],
   "source": [
    "data_augmentation = keras.Sequential(\n",
    "    [\n",
    "        layers.RandomFlip('horizontal'),\n",
    "        layers.RandomRotation(0.1),\n",
    "        layers.RandomZoom(0.2)\n",
    "    ]\n",
    ")"
   ]
  },
  {
   "cell_type": "markdown",
   "id": "563e0f17-0fc3-44d5-8791-50ec6f4d303b",
   "metadata": {
    "tags": []
   },
   "source": [
    "### Importin VGG16"
   ]
  },
  {
   "cell_type": "code",
   "execution_count": null,
   "id": "c1800037-be62-4662-946b-7ab82c68884d",
   "metadata": {},
   "outputs": [],
   "source": [
    "conv_base = keras.applications.vgg16.VGG16(\n",
    "    include_top=False,\n",
    "    weights='imagenet'\n",
    ")\n",
    "\n",
    "conv_base.trainable = False"
   ]
  },
  {
   "cell_type": "code",
   "execution_count": null,
   "id": "45ede4a6-9668-4d73-bb15-4496c4580c5b",
   "metadata": {},
   "outputs": [],
   "source": [
    "def get_model():\n",
    "    inputs = keras.Input(shape=(180,180,3))\n",
    "    \n",
    "    x = data_augmentation(inputs)\n",
    "    \n",
    "    # Features straction\n",
    "    x = keras.applications.vgg16.preprocess_input(x)\n",
    "    \n",
    "    conv_base = keras.applications.vgg16.VGG16(\n",
    "    include_top=False,\n",
    "    weights='imagenet'\n",
    "    )\n",
    "\n",
    "    conv_base.trainable = False\n",
    "    \n",
    "    x = conv_base(x)\n",
    "    \n",
    "    # my clasifier\n",
    "    x = layers.Flatten()(x)\n",
    "    x = layers.Dense(256)(x)\n",
    "    x = layers.Dropout(0.5)(x)\n",
    "    \n",
    "    outputs = layers.Dense(1, activation='sigmoid')(x)\n",
    "    \n",
    "    model = keras.Model(inputs, outputs)\n",
    "    \n",
    "    return model"
   ]
  },
  {
   "cell_type": "code",
   "execution_count": null,
   "id": "adf4340d-753c-42a6-a087-483c7aa206a2",
   "metadata": {},
   "outputs": [],
   "source": [
    "# to uses all the available GPUs\n",
    "with strategy.scope():\n",
    "    model = get_model()\n",
    "    model.compile(\n",
    "        optimizer='rmsprop',\n",
    "        loss='binary_crossentropy',\n",
    "        metrics=['accuracy']\n",
    "    )"
   ]
  },
  {
   "cell_type": "code",
   "execution_count": null,
   "id": "264a74bf-9593-4ea1-b301-9ab5193615aa",
   "metadata": {
    "tags": []
   },
   "outputs": [],
   "source": [
    "callbacks = [ \n",
    "    keras.callbacks.ModelCheckpoint(\n",
    "        filepath='strategy.keras',\n",
    "        save_best_only=True,\n",
    "        monitor='val_loss'\n",
    "    ),\n",
    "    \n",
    "    # Monitoring the traing on TensorBoard\n",
    "    keras.callbacks.TensorBoard(\n",
    "        log_dir='/home/antirrabia/Documents/DeepLearnin/Notebooks/TensorBoard_Logs/'\n",
    "    )\n",
    "]\n",
    "\n",
    "history = model.fit(\n",
    "    tr_d,\n",
    "    epochs=52,\n",
    "    validation_data=va_d,\n",
    "    callbacks=callbacks\n",
    ")"
   ]
  },
  {
   "cell_type": "markdown",
   "id": "22704eca-fb44-4636-b4ee-eb1e833b79a9",
   "metadata": {},
   "source": [
    "### Fine-tunning State"
   ]
  },
  {
   "cell_type": "code",
   "execution_count": null,
   "id": "ab179920-f568-49d0-8b25-1731398e7cf0",
   "metadata": {},
   "outputs": [],
   "source": [
    "conv_base.trainable = True\n",
    "\n",
    "for l in conv_base.layers[:-4]:\n",
    "    l.trainable = False"
   ]
  },
  {
   "cell_type": "code",
   "execution_count": null,
   "id": "902b82d7-e539-46cd-a593-1a679534a492",
   "metadata": {
    "tags": []
   },
   "outputs": [],
   "source": [
    "with strategy.scope():\n",
    "    #model = get_model()\n",
    "    model.compile(\n",
    "        optimizer=keras.optimizers.RMSprop(learning_rate=1e-5),\n",
    "        loss='binary_crossentropy',\n",
    "        metrics=['accuracy']\n",
    "    )"
   ]
  },
  {
   "cell_type": "code",
   "execution_count": null,
   "id": "9566cc82-ef56-4fb9-88b2-d4d9dbd73941",
   "metadata": {},
   "outputs": [],
   "source": [
    "callbacks = [ \n",
    "    keras.callbacks.ModelCheckpoint(\n",
    "        filepath='strategy.keras',\n",
    "        save_best_only=True,\n",
    "        monitor='val_loss'\n",
    "    ) \n",
    "]\n",
    "\n",
    "history = model.fit(\n",
    "    tr_d,\n",
    "    epochs=52,\n",
    "    validation_data=va_d,\n",
    "    callbacks=callbacks\n",
    ")"
   ]
  },
  {
   "cell_type": "code",
   "execution_count": null,
   "id": "d19d076c-b4b0-43f5-ab56-7ecc8160c3f9",
   "metadata": {},
   "outputs": [],
   "source": []
  },
  {
   "cell_type": "code",
   "execution_count": null,
   "id": "ed476300-081a-4d96-a2dc-310033d64263",
   "metadata": {},
   "outputs": [],
   "source": []
  },
  {
   "cell_type": "code",
   "execution_count": null,
   "id": "509b5002-a57b-4eb6-bef7-cc7337a75dfe",
   "metadata": {},
   "outputs": [],
   "source": [
    "# Accuracy\n",
    "accuracy = history.history['accuracy']\n",
    "val_acc  = history.history['val_accuracy']\n",
    "\n",
    "# Loss\n",
    "loss = history.history['loss']\n",
    "val_loss = history.history['val_loss']\n",
    "\n",
    "epochs = range(1, len(accuracy) + 1)\n"
   ]
  },
  {
   "cell_type": "code",
   "execution_count": null,
   "id": "9c008de7-2cef-46c0-8c76-c5c4553d9b74",
   "metadata": {},
   "outputs": [],
   "source": []
  },
  {
   "cell_type": "code",
   "execution_count": null,
   "id": "1b837119-61d2-46b5-9331-33cbe666e893",
   "metadata": {},
   "outputs": [],
   "source": [
    "fig, ax = plt.subplots(nrows=1, ncols=2, figsize=(20,8))\n",
    "\n",
    "ax[0].plot(epochs, accuracy, 'bo', label='Training Accuracy')\n",
    "ax[0].plot(epochs, val_acc, 'b', label='Validation Accuracy')\n",
    "\n",
    "ax[0].set_title('Training and Validation Accuracy')\n",
    "# plt.legend(), plt.figure();\n",
    "\n",
    "ax[1].plot(epochs, loss, 'bo', label='Training Loss')\n",
    "ax[1].plot(epochs, val_loss, 'b', label='Validation Loss')\n",
    "ax[1].set_title('Training and Validation Loss')\n",
    "# plt.legend(), plt.figure();"
   ]
  },
  {
   "cell_type": "code",
   "execution_count": null,
   "id": "458397ab-a651-493d-aefa-6a9faa212dad",
   "metadata": {},
   "outputs": [],
   "source": []
  },
  {
   "cell_type": "code",
   "execution_count": null,
   "id": "c525faa5-2b31-4d9f-8cc6-d885571c84b0",
   "metadata": {},
   "outputs": [],
   "source": [
    "ft_te_model = keras.models.load_model('strategy.keras')\n",
    "\n",
    "ft_te_loss, ft_te_acc = ft_te_model.evaluate(te_d)\n",
    "\n",
    "print(f\"Fine-tunin test accuracy: {ft_te_acc:.3f}\")"
   ]
  },
  {
   "cell_type": "code",
   "execution_count": null,
   "id": "9477c3f0-c9e3-4ec6-98f8-7b16eaab716f",
   "metadata": {},
   "outputs": [],
   "source": []
  },
  {
   "cell_type": "code",
   "execution_count": null,
   "id": "0e7476f1-d3c3-42a3-a0f8-d8023ffea393",
   "metadata": {},
   "outputs": [],
   "source": []
  },
  {
   "cell_type": "code",
   "execution_count": null,
   "id": "0f9519ba-1cd4-45ea-bc46-a407e8e6e7c6",
   "metadata": {},
   "outputs": [],
   "source": []
  },
  {
   "cell_type": "code",
   "execution_count": null,
   "id": "af240be2-b0e7-4f2c-aae1-d933a6bdcf15",
   "metadata": {},
   "outputs": [],
   "source": [
    "# Accuracy\n",
    "accuracy = history.history['accuracy']\n",
    "val_acc = history.history['val_accuracy']\n",
    "\n",
    "# Loss\n",
    "loss = history.history['loss']\n",
    "val_loss = history.history['val_loss']\n",
    "\n",
    "epochs = range(1, len(accuracy) + 1 )"
   ]
  },
  {
   "cell_type": "code",
   "execution_count": null,
   "id": "aeb2f437-fcf8-4100-bfbe-512559113d6c",
   "metadata": {},
   "outputs": [],
   "source": [
    "fig, ax = plt.subplots(1,2, figsize=(20,8))\n",
    "\n",
    "ax[].plot(epochs, accuracy, 'bo', label='Trainin Accuracy')\n",
    "ax[].plot(epochs, val_acc, 'b', label='Validation Accuracy')\n",
    "ax[].set_title('Training and Validation Accuracy')\n",
    "ax.legend(), ax[].figure();\n",
    "\n",
    "ax[].plot(epochs, loss, 'bo', label='Training Loss')\n",
    "ax[].plot(epochs, val_loss, 'b', label='Validation Loss')\n",
    "ax[].set_title('Training and Validation Loss')\n",
    "ax[].legend(), ax[]\n"
   ]
  },
  {
   "cell_type": "code",
   "execution_count": null,
   "id": "b80be39c-4576-4fc6-b35d-6321e254cdb3",
   "metadata": {},
   "outputs": [],
   "source": []
  },
  {
   "cell_type": "code",
   "execution_count": null,
   "id": "08660cb1-f8af-4c62-a0ef-3009593b67d9",
   "metadata": {},
   "outputs": [],
   "source": []
  }
 ],
 "metadata": {
  "kernelspec": {
   "display_name": "Python 3 (ipykernel)",
   "language": "python",
   "name": "python3"
  },
  "language_info": {
   "codemirror_mode": {
    "name": "ipython",
    "version": 3
   },
   "file_extension": ".py",
   "mimetype": "text/x-python",
   "name": "python",
   "nbconvert_exporter": "python",
   "pygments_lexer": "ipython3",
   "version": "3.11.3"
  }
 },
 "nbformat": 4,
 "nbformat_minor": 5
}
