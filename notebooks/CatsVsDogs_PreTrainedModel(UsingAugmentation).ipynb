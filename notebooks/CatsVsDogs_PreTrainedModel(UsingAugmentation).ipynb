{
 "cells": [
  {
   "cell_type": "code",
   "execution_count": 2,
   "id": "d15f150e-a2e5-499f-a421-ac9c18fbf918",
   "metadata": {},
   "outputs": [],
   "source": [
    "import tensorflow as tf\n",
    "import pathlib\n",
    "\n",
    "from tensorflow import keras\n",
    "from tensorflow.keras import layers\n",
    "from tensorflow.keras.utils import image_dataset_from_directory\n",
    "\n",
    "import matplotlib.pyplot as plt\n",
    "import seaborn.objects as so\n",
    "import seaborn as sns\n",
    "import numpy as np"
   ]
  },
  {
   "cell_type": "markdown",
   "id": "69596e85-4176-4140-be52-7f9e125592e6",
   "metadata": {},
   "source": [
    "### Testing the number of GPU"
   ]
  },
  {
   "cell_type": "code",
   "execution_count": 3,
   "id": "ee252fe5-f404-4b4f-9eff-6e6779a1e80b",
   "metadata": {},
   "outputs": [
    {
     "name": "stdout",
     "output_type": "stream",
     "text": [
      "Number of GPU: 2\n"
     ]
    }
   ],
   "source": [
    "print(f\"Number of GPU: { len( tf.config.list_physical_devices('GPU'))}\")"
   ]
  },
  {
   "cell_type": "markdown",
   "id": "fd377a85-a09f-4f50-86e1-935c45ad7129",
   "metadata": {},
   "source": [
    "### Reading the DATA"
   ]
  },
  {
   "cell_type": "code",
   "execution_count": 4,
   "id": "30c77b47-b489-4149-98f5-e9fdc26fd8a7",
   "metadata": {},
   "outputs": [],
   "source": [
    "w_dir = pathlib.Path('/home/antirrabia/Documents/DeepLearnin/DATASETS/CatsVsDogs/cats_vs_dogs_small/')"
   ]
  },
  {
   "cell_type": "code",
   "execution_count": 6,
   "id": "895fafbf-fe3c-404d-bf57-1672a40169ff",
   "metadata": {},
   "outputs": [
    {
     "name": "stdout",
     "output_type": "stream",
     "text": [
      "Found 2000 files belonging to 2 classes.\n",
      "Found 1000 files belonging to 2 classes.\n",
      "Found 2000 files belonging to 2 classes.\n"
     ]
    }
   ],
   "source": [
    "tr_d = image_dataset_from_directory(\n",
    "    w_dir / 'train',\n",
    "    image_size=(180,180),\n",
    "    batch_size=32\n",
    ")\n",
    "\n",
    "va_d = image_dataset_from_directory(\n",
    "    w_dir / 'validation',\n",
    "    image_size=(180,180),\n",
    "    batch_size=32\n",
    ")\n",
    "\n",
    "te_d = image_dataset_from_directory(\n",
    "    w_dir / 'test',\n",
    "    image_size=(180,180),\n",
    "    batch_size=32\n",
    ")"
   ]
  },
  {
   "cell_type": "markdown",
   "id": "2e0ee5cd-8163-44f7-a173-bedba9675100",
   "metadata": {},
   "source": [
    "### importing and freezing VGG16"
   ]
  },
  {
   "cell_type": "code",
   "execution_count": 7,
   "id": "9eb99007-fe36-4959-88f4-29d2aa377a65",
   "metadata": {},
   "outputs": [],
   "source": [
    "conv_base = keras.applications.vgg16.VGG16(\n",
    "    include_top=False,\n",
    "    weights='imagenet'\n",
    ")\n",
    "\n",
    "# Freezing\n",
    "conv_base.trainable = False"
   ]
  },
  {
   "cell_type": "markdown",
   "id": "084c90ef-4c97-45cb-8621-77a1710cb215",
   "metadata": {},
   "source": [
    "### Augmentation"
   ]
  },
  {
   "cell_type": "code",
   "execution_count": 8,
   "id": "32b29efb-25b5-45ba-8c5c-7209b834b2f0",
   "metadata": {},
   "outputs": [],
   "source": [
    "data_augmentation = keras.Sequential( \n",
    "    [\n",
    "        layers.RandomFlip(\"horizontal\"),\n",
    "        layers.RandomRotation(0.1),\n",
    "        layers.RandomZoom(0.2)\n",
    "    ]\n",
    ")"
   ]
  },
  {
   "cell_type": "markdown",
   "id": "83e4efa4-ca88-46d4-b6ba-fdb4e7f47c90",
   "metadata": {},
   "source": [
    "### Model"
   ]
  },
  {
   "cell_type": "code",
   "execution_count": 11,
   "id": "8fc2dcec-c20b-46c8-8703-324e3a0f40c8",
   "metadata": {},
   "outputs": [
    {
     "name": "stdout",
     "output_type": "stream",
     "text": [
      "WARNING:tensorflow:Using a while_loop for converting RngReadAndSkip cause there is no registered converter for this op.\n",
      "WARNING:tensorflow:Using a while_loop for converting Bitcast cause there is no registered converter for this op.\n",
      "WARNING:tensorflow:Using a while_loop for converting Bitcast cause there is no registered converter for this op.\n",
      "WARNING:tensorflow:Using a while_loop for converting StatelessRandomUniformV2 cause there is no registered converter for this op.\n",
      "WARNING:tensorflow:Using a while_loop for converting ImageProjectiveTransformV3 cause there is no registered converter for this op.\n",
      "WARNING:tensorflow:Using a while_loop for converting RngReadAndSkip cause there is no registered converter for this op.\n",
      "WARNING:tensorflow:Using a while_loop for converting Bitcast cause there is no registered converter for this op.\n",
      "WARNING:tensorflow:Using a while_loop for converting Bitcast cause there is no registered converter for this op.\n",
      "WARNING:tensorflow:Using a while_loop for converting StatelessRandomUniformV2 cause there is no registered converter for this op.\n",
      "WARNING:tensorflow:Using a while_loop for converting ImageProjectiveTransformV3 cause there is no registered converter for this op.\n",
      "WARNING:tensorflow:Using a while_loop for converting RngReadAndSkip cause there is no registered converter for this op.\n",
      "WARNING:tensorflow:Using a while_loop for converting Bitcast cause there is no registered converter for this op.\n",
      "WARNING:tensorflow:Using a while_loop for converting Bitcast cause there is no registered converter for this op.\n",
      "WARNING:tensorflow:Using a while_loop for converting StatelessRandomUniformV2 cause there is no registered converter for this op.\n",
      "WARNING:tensorflow:Using a while_loop for converting ImageProjectiveTransformV3 cause there is no registered converter for this op.\n",
      "WARNING:tensorflow:Using a while_loop for converting RngReadAndSkip cause there is no registered converter for this op.\n",
      "WARNING:tensorflow:Using a while_loop for converting Bitcast cause there is no registered converter for this op.\n",
      "WARNING:tensorflow:Using a while_loop for converting Bitcast cause there is no registered converter for this op.\n",
      "WARNING:tensorflow:Using a while_loop for converting StatelessRandomUniformV2 cause there is no registered converter for this op.\n",
      "WARNING:tensorflow:Using a while_loop for converting ImageProjectiveTransformV3 cause there is no registered converter for this op.\n"
     ]
    }
   ],
   "source": [
    "inputs = keras.Input(shape=(180,180,3))\n",
    "\n",
    "x = data_augmentation(inputs)\n",
    "\n",
    "x = keras.applications.vgg16.preprocess_input(x)\n",
    "x = conv_base(x)\n",
    "\n",
    "# our Classifier\n",
    "x = layers.Flatten()(x)\n",
    "\n",
    "x = layers.Dense(256)(x)\n",
    "x = layers.Dropout(0.5)(x)\n",
    "\n",
    "outputs = layers.Dense(1, activation='sigmoid')(x)\n",
    "\n",
    "model = keras.Model(inputs, outputs)\n",
    "\n",
    "model.compile(\n",
    "    optimizer='rmsprop',\n",
    "    loss='binary_crossentropy',\n",
    "    metrics=['accuracy']\n",
    ")"
   ]
  },
  {
   "cell_type": "markdown",
   "id": "cec87c73-1f36-4990-9a4a-15378c74934e",
   "metadata": {},
   "source": [
    "### Training"
   ]
  },
  {
   "cell_type": "code",
   "execution_count": 13,
   "id": "e5014566-5a7a-4607-be33-1e9252b9ae73",
   "metadata": {},
   "outputs": [
    {
     "name": "stdout",
     "output_type": "stream",
     "text": [
      "Epoch 1/52\n",
      "WARNING:tensorflow:Using a while_loop for converting RngReadAndSkip cause there is no registered converter for this op.\n",
      "WARNING:tensorflow:Using a while_loop for converting Bitcast cause there is no registered converter for this op.\n",
      "WARNING:tensorflow:Using a while_loop for converting Bitcast cause there is no registered converter for this op.\n",
      "WARNING:tensorflow:Using a while_loop for converting StatelessRandomUniformV2 cause there is no registered converter for this op.\n",
      "WARNING:tensorflow:Using a while_loop for converting ImageProjectiveTransformV3 cause there is no registered converter for this op.\n",
      "WARNING:tensorflow:Using a while_loop for converting RngReadAndSkip cause there is no registered converter for this op.\n",
      "WARNING:tensorflow:Using a while_loop for converting Bitcast cause there is no registered converter for this op.\n",
      "WARNING:tensorflow:Using a while_loop for converting Bitcast cause there is no registered converter for this op.\n",
      "WARNING:tensorflow:Using a while_loop for converting StatelessRandomUniformV2 cause there is no registered converter for this op.\n",
      "WARNING:tensorflow:Using a while_loop for converting ImageProjectiveTransformV3 cause there is no registered converter for this op.\n",
      "WARNING:tensorflow:Using a while_loop for converting RngReadAndSkip cause there is no registered converter for this op.\n",
      "WARNING:tensorflow:Using a while_loop for converting Bitcast cause there is no registered converter for this op.\n",
      "WARNING:tensorflow:Using a while_loop for converting Bitcast cause there is no registered converter for this op.\n",
      "WARNING:tensorflow:Using a while_loop for converting StatelessRandomUniformV2 cause there is no registered converter for this op.\n",
      "WARNING:tensorflow:Using a while_loop for converting ImageProjectiveTransformV3 cause there is no registered converter for this op.\n",
      "WARNING:tensorflow:Using a while_loop for converting RngReadAndSkip cause there is no registered converter for this op.\n",
      "WARNING:tensorflow:Using a while_loop for converting Bitcast cause there is no registered converter for this op.\n",
      "WARNING:tensorflow:Using a while_loop for converting Bitcast cause there is no registered converter for this op.\n",
      "WARNING:tensorflow:Using a while_loop for converting StatelessRandomUniformV2 cause there is no registered converter for this op.\n",
      "WARNING:tensorflow:Using a while_loop for converting ImageProjectiveTransformV3 cause there is no registered converter for this op.\n"
     ]
    },
    {
     "name": "stderr",
     "output_type": "stream",
     "text": [
      "2023-04-07 11:41:01.043422: I tensorflow/stream_executor/cuda/cuda_dnn.cc:384] Loaded cuDNN version 8100\n",
      "2023-04-07 11:41:01.277632: I tensorflow/core/platform/default/subprocess.cc:304] Start cannot spawn child process: No such file or directory\n",
      "2023-04-07 11:41:01.278630: I tensorflow/core/platform/default/subprocess.cc:304] Start cannot spawn child process: No such file or directory\n",
      "2023-04-07 11:41:01.278652: W tensorflow/stream_executor/gpu/asm_compiler.cc:80] Couldn't get ptxas version string: INTERNAL: Couldn't invoke ptxas --version\n",
      "2023-04-07 11:41:01.279493: I tensorflow/core/platform/default/subprocess.cc:304] Start cannot spawn child process: No such file or directory\n",
      "2023-04-07 11:41:01.279535: W tensorflow/stream_executor/gpu/redzone_allocator.cc:314] INTERNAL: Failed to launch ptxas\n",
      "Relying on driver to perform ptx compilation. \n",
      "Modify $PATH to customize ptxas location.\n",
      "This message will be only logged once.\n",
      "2023-04-07 11:41:01.664675: W tensorflow/core/common_runtime/bfc_allocator.cc:290] Allocator (GPU_0_bfc) ran out of memory trying to allocate 2.24GiB with freed_by_count=0. The caller indicates that this is not a failure, but this may mean that there could be performance gains if more memory were available.\n",
      "2023-04-07 11:41:01.664705: W tensorflow/core/common_runtime/bfc_allocator.cc:290] Allocator (GPU_0_bfc) ran out of memory trying to allocate 3.04GiB with freed_by_count=0. The caller indicates that this is not a failure, but this may mean that there could be performance gains if more memory were available.\n",
      "2023-04-07 11:41:02.837630: W tensorflow/core/common_runtime/bfc_allocator.cc:290] Allocator (GPU_0_bfc) ran out of memory trying to allocate 2.55GiB with freed_by_count=0. The caller indicates that this is not a failure, but this may mean that there could be performance gains if more memory were available.\n"
     ]
    },
    {
     "name": "stdout",
     "output_type": "stream",
     "text": [
      "62/63 [============================>.] - ETA: 0s - loss: 18.8674 - accuracy: 0.8977"
     ]
    },
    {
     "name": "stderr",
     "output_type": "stream",
     "text": [
      "2023-04-07 11:41:19.987339: W tensorflow/core/common_runtime/bfc_allocator.cc:290] Allocator (GPU_0_bfc) ran out of memory trying to allocate 2.54GiB with freed_by_count=0. The caller indicates that this is not a failure, but this may mean that there could be performance gains if more memory were available.\n"
     ]
    },
    {
     "name": "stdout",
     "output_type": "stream",
     "text": [
      "63/63 [==============================] - 29s 352ms/step - loss: 18.7567 - accuracy: 0.8980 - val_loss: 24.4292 - val_accuracy: 0.8950\n",
      "Epoch 2/52\n",
      "63/63 [==============================] - 18s 284ms/step - loss: 6.1763 - accuracy: 0.9570 - val_loss: 4.2478 - val_accuracy: 0.9740\n",
      "Epoch 3/52\n",
      "63/63 [==============================] - 18s 283ms/step - loss: 5.8117 - accuracy: 0.9560 - val_loss: 4.9150 - val_accuracy: 0.9730\n",
      "Epoch 4/52\n",
      "63/63 [==============================] - 18s 280ms/step - loss: 4.2478 - accuracy: 0.9645 - val_loss: 5.8286 - val_accuracy: 0.9700\n",
      "Epoch 5/52\n",
      "63/63 [==============================] - 18s 280ms/step - loss: 4.6815 - accuracy: 0.9630 - val_loss: 16.7241 - val_accuracy: 0.9350\n",
      "Epoch 6/52\n",
      "63/63 [==============================] - 18s 281ms/step - loss: 3.4522 - accuracy: 0.9705 - val_loss: 7.1145 - val_accuracy: 0.9710\n",
      "Epoch 7/52\n",
      "63/63 [==============================] - 18s 282ms/step - loss: 2.9122 - accuracy: 0.9760 - val_loss: 5.3955 - val_accuracy: 0.9760\n",
      "Epoch 8/52\n",
      "63/63 [==============================] - 18s 285ms/step - loss: 2.0516 - accuracy: 0.9815 - val_loss: 3.0706 - val_accuracy: 0.9810\n",
      "Epoch 9/52\n",
      "63/63 [==============================] - 18s 282ms/step - loss: 1.8345 - accuracy: 0.9800 - val_loss: 4.5831 - val_accuracy: 0.9820\n",
      "Epoch 10/52\n",
      "63/63 [==============================] - 18s 284ms/step - loss: 2.0060 - accuracy: 0.9820 - val_loss: 5.2120 - val_accuracy: 0.9790\n",
      "Epoch 11/52\n",
      "63/63 [==============================] - 18s 282ms/step - loss: 1.7931 - accuracy: 0.9820 - val_loss: 6.4725 - val_accuracy: 0.9770\n",
      "Epoch 12/52\n",
      "63/63 [==============================] - 18s 283ms/step - loss: 1.3332 - accuracy: 0.9860 - val_loss: 6.0300 - val_accuracy: 0.9680\n",
      "Epoch 13/52\n",
      "63/63 [==============================] - 18s 282ms/step - loss: 1.7459 - accuracy: 0.9825 - val_loss: 6.0644 - val_accuracy: 0.9770\n",
      "Epoch 14/52\n",
      "63/63 [==============================] - 18s 281ms/step - loss: 1.4791 - accuracy: 0.9855 - val_loss: 5.7010 - val_accuracy: 0.9690\n",
      "Epoch 15/52\n",
      "63/63 [==============================] - 18s 285ms/step - loss: 1.2772 - accuracy: 0.9855 - val_loss: 5.6150 - val_accuracy: 0.9760\n",
      "Epoch 16/52\n",
      "63/63 [==============================] - 18s 283ms/step - loss: 1.2405 - accuracy: 0.9860 - val_loss: 5.2966 - val_accuracy: 0.9750\n",
      "Epoch 17/52\n",
      "63/63 [==============================] - 18s 282ms/step - loss: 1.4426 - accuracy: 0.9860 - val_loss: 3.9096 - val_accuracy: 0.9790\n",
      "Epoch 18/52\n",
      "63/63 [==============================] - 18s 284ms/step - loss: 0.6647 - accuracy: 0.9925 - val_loss: 4.1974 - val_accuracy: 0.9750\n",
      "Epoch 19/52\n",
      "63/63 [==============================] - 18s 280ms/step - loss: 1.5358 - accuracy: 0.9840 - val_loss: 4.4849 - val_accuracy: 0.9750\n",
      "Epoch 20/52\n",
      "63/63 [==============================] - 18s 281ms/step - loss: 0.6734 - accuracy: 0.9900 - val_loss: 4.6179 - val_accuracy: 0.9760\n",
      "Epoch 21/52\n",
      "63/63 [==============================] - 18s 284ms/step - loss: 0.9417 - accuracy: 0.9890 - val_loss: 4.7258 - val_accuracy: 0.9780\n",
      "Epoch 22/52\n",
      "63/63 [==============================] - 18s 282ms/step - loss: 0.5805 - accuracy: 0.9900 - val_loss: 3.7634 - val_accuracy: 0.9770\n",
      "Epoch 23/52\n",
      "63/63 [==============================] - 18s 284ms/step - loss: 1.3932 - accuracy: 0.9870 - val_loss: 5.6242 - val_accuracy: 0.9710\n",
      "Epoch 24/52\n",
      "63/63 [==============================] - 18s 280ms/step - loss: 1.1838 - accuracy: 0.9885 - val_loss: 6.6928 - val_accuracy: 0.9750\n",
      "Epoch 25/52\n",
      "63/63 [==============================] - 18s 285ms/step - loss: 0.3214 - accuracy: 0.9930 - val_loss: 4.5839 - val_accuracy: 0.9810\n",
      "Epoch 26/52\n",
      "63/63 [==============================] - 18s 284ms/step - loss: 0.8791 - accuracy: 0.9890 - val_loss: 4.6699 - val_accuracy: 0.9790\n",
      "Epoch 27/52\n",
      "63/63 [==============================] - 18s 284ms/step - loss: 1.0843 - accuracy: 0.9905 - val_loss: 4.2874 - val_accuracy: 0.9770\n",
      "Epoch 28/52\n",
      "63/63 [==============================] - 18s 289ms/step - loss: 0.8356 - accuracy: 0.9905 - val_loss: 3.0120 - val_accuracy: 0.9800\n",
      "Epoch 29/52\n",
      "63/63 [==============================] - 18s 287ms/step - loss: 0.8781 - accuracy: 0.9905 - val_loss: 2.9957 - val_accuracy: 0.9800\n",
      "Epoch 30/52\n",
      "63/63 [==============================] - 18s 285ms/step - loss: 1.2097 - accuracy: 0.9880 - val_loss: 4.3084 - val_accuracy: 0.9730\n",
      "Epoch 31/52\n",
      "63/63 [==============================] - 18s 285ms/step - loss: 0.8186 - accuracy: 0.9920 - val_loss: 3.2454 - val_accuracy: 0.9790\n",
      "Epoch 32/52\n",
      "63/63 [==============================] - 18s 283ms/step - loss: 0.8173 - accuracy: 0.9890 - val_loss: 5.8020 - val_accuracy: 0.9710\n",
      "Epoch 33/52\n",
      "63/63 [==============================] - 18s 282ms/step - loss: 0.6677 - accuracy: 0.9930 - val_loss: 4.8712 - val_accuracy: 0.9800\n",
      "Epoch 34/52\n",
      "63/63 [==============================] - 18s 284ms/step - loss: 0.5508 - accuracy: 0.9940 - val_loss: 4.6992 - val_accuracy: 0.9790\n",
      "Epoch 35/52\n",
      "63/63 [==============================] - 18s 283ms/step - loss: 0.9439 - accuracy: 0.9890 - val_loss: 4.3112 - val_accuracy: 0.9710\n",
      "Epoch 36/52\n",
      "63/63 [==============================] - 18s 282ms/step - loss: 0.7834 - accuracy: 0.9905 - val_loss: 3.8445 - val_accuracy: 0.9770\n",
      "Epoch 37/52\n",
      "63/63 [==============================] - 18s 284ms/step - loss: 0.3757 - accuracy: 0.9945 - val_loss: 4.0821 - val_accuracy: 0.9780\n",
      "Epoch 38/52\n",
      "63/63 [==============================] - 18s 284ms/step - loss: 0.5929 - accuracy: 0.9915 - val_loss: 3.6799 - val_accuracy: 0.9770\n",
      "Epoch 39/52\n",
      "63/63 [==============================] - 18s 283ms/step - loss: 0.8590 - accuracy: 0.9935 - val_loss: 4.1530 - val_accuracy: 0.9740\n",
      "Epoch 40/52\n",
      "63/63 [==============================] - 18s 284ms/step - loss: 0.5161 - accuracy: 0.9935 - val_loss: 3.8190 - val_accuracy: 0.9780\n",
      "Epoch 41/52\n",
      "63/63 [==============================] - 18s 283ms/step - loss: 0.6223 - accuracy: 0.9930 - val_loss: 4.1649 - val_accuracy: 0.9780\n",
      "Epoch 42/52\n",
      "63/63 [==============================] - 18s 282ms/step - loss: 0.7565 - accuracy: 0.9920 - val_loss: 5.0789 - val_accuracy: 0.9770\n",
      "Epoch 43/52\n",
      "63/63 [==============================] - 18s 280ms/step - loss: 0.3784 - accuracy: 0.9955 - val_loss: 3.9221 - val_accuracy: 0.9750\n",
      "Epoch 44/52\n",
      "63/63 [==============================] - 18s 286ms/step - loss: 0.9600 - accuracy: 0.9890 - val_loss: 4.7455 - val_accuracy: 0.9750\n",
      "Epoch 45/52\n",
      "63/63 [==============================] - 18s 285ms/step - loss: 0.3118 - accuracy: 0.9950 - val_loss: 3.5173 - val_accuracy: 0.9780\n",
      "Epoch 46/52\n",
      "63/63 [==============================] - 18s 283ms/step - loss: 0.6002 - accuracy: 0.9915 - val_loss: 3.9334 - val_accuracy: 0.9770\n",
      "Epoch 47/52\n",
      "63/63 [==============================] - 18s 285ms/step - loss: 0.3297 - accuracy: 0.9940 - val_loss: 6.5961 - val_accuracy: 0.9680\n",
      "Epoch 48/52\n",
      "63/63 [==============================] - 18s 286ms/step - loss: 0.7280 - accuracy: 0.9900 - val_loss: 3.8529 - val_accuracy: 0.9780\n",
      "Epoch 49/52\n",
      "63/63 [==============================] - 18s 280ms/step - loss: 0.4819 - accuracy: 0.9940 - val_loss: 3.6461 - val_accuracy: 0.9820\n",
      "Epoch 50/52\n",
      "63/63 [==============================] - 18s 284ms/step - loss: 0.6919 - accuracy: 0.9920 - val_loss: 4.9623 - val_accuracy: 0.9720\n",
      "Epoch 51/52\n",
      "63/63 [==============================] - 18s 282ms/step - loss: 0.6700 - accuracy: 0.9910 - val_loss: 3.5416 - val_accuracy: 0.9780\n",
      "Epoch 52/52\n",
      "63/63 [==============================] - 18s 283ms/step - loss: 0.6810 - accuracy: 0.9880 - val_loss: 4.5180 - val_accuracy: 0.9750\n"
     ]
    }
   ],
   "source": [
    "callbacks = [\n",
    "    keras.callbacks.ModelCheckpoint(\n",
    "        filepath='CatsVsDogsPreTrainedWithAugmentation.keras',\n",
    "        monitor='val_loss',\n",
    "        save_best_only=True\n",
    "    )\n",
    "]\n",
    "\n",
    "history = model.fit(\n",
    "    tr_d,\n",
    "    epochs=52,\n",
    "    validation_data=va_d,\n",
    "    callbacks=callbacks\n",
    ")"
   ]
  },
  {
   "cell_type": "markdown",
   "id": "e2e54ba1-d2f2-4609-ba61-8609a87469a5",
   "metadata": {},
   "source": [
    "### Seeing the training"
   ]
  },
  {
   "cell_type": "code",
   "execution_count": 17,
   "id": "deb4f134-4711-4afb-8ca1-07bea3295046",
   "metadata": {},
   "outputs": [
    {
     "data": {
      "text/plain": [
       "Text(0.5, 1.0, 'Training and Validation Loss')"
      ]
     },
     "execution_count": 17,
     "metadata": {},
     "output_type": "execute_result"
    },
    {
     "data": {
      "image/png": "[encoded data removed]",
      "text/plain": [
       "<Figure size 1600x800 with 2 Axes>"
      ]
     },
     "metadata": {},
     "output_type": "display_data"
    }
   ],
   "source": [
    "# Accuracy\n",
    "accuracy = history.history['accuracy']\n",
    "val_acc = history.history['val_accuracy']\n",
    "\n",
    "# Loss\n",
    "loss = history.history['loss']\n",
    "val_loss = history.history['val_loss']\n",
    "\n",
    "epochs = range(1, len(accuracy) + 1)\n",
    "\n",
    "fig, ax = plt.subplots(nrows=1, ncols=2, figsize=(16,8))\n",
    "\n",
    "ax[0].plot(epochs, accuracy, 'ob', label='Training Accuracy')\n",
    "ax[0].plot(epochs, val_acc, 'b', label='Validation Accuracy')\n",
    "ax[0].set_title('Training and Validation Accuracy')\n",
    "\n",
    "ax[1].plot(epochs, loss, 'bo', label='Training Loss')\n",
    "ax[1].plot(epochs, val_loss, 'b', label='Validation Loss')\n",
    "ax[1].set_title('Training and Validation Loss')\n",
    "\n"
   ]
  },
  {
   "cell_type": "code",
   "execution_count": null,
   "id": "2febc304-17b8-4519-9471-8f9ab1ded721",
   "metadata": {},
   "outputs": [],
   "source": []
  }
 ],
 "metadata": {
  "kernelspec": {
   "display_name": "Python 3 (ipykernel)",
   "language": "python",
   "name": "python3"
  },
  "language_info": {
   "codemirror_mode": {
    "name": "ipython",
    "version": 3
   },
   "file_extension": ".py",
   "mimetype": "text/x-python",
   "name": "python",
   "nbconvert_exporter": "python",
   "pygments_lexer": "ipython3",
   "version": "3.9.16"
  }
 },
 "nbformat": 4,
 "nbformat_minor": 5
}
